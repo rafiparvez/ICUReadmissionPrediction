{
 "cells": [
  {
   "cell_type": "code",
   "execution_count": 1,
   "metadata": {
    "collapsed": true
   },
   "outputs": [],
   "source": [
    "import pandas as pd\n",
    "from pandas import Series\n",
    "import numpy as np\n",
    "import matplotlib.pyplot as plt\n",
    "%matplotlib inline\n",
    "from sklearn.model_selection import KFold,train_test_split,StratifiedKFold\n",
    "import random\n",
    "import os\n",
    "import sys\n",
    "import shutil\n",
    "import csv\n",
    "import re\n",
    "\n",
    "mimic3_path=\"/home/rafiparvez1706/mimic\"\n",
    "output_path =\"../data/root\"\n",
    "variable_map_file='../resources/itemid_to_variable_map.csv'\n",
    "variable_ranges_file='../resources/variable_ranges.csv'\n",
    "icu_stays_root_path=output_path\n",
    "channel_info_file ='../resources/channel_info.json'\n",
    "import json"
   ]
  },
  {
   "cell_type": "code",
   "execution_count": 2,
   "metadata": {
    "collapsed": false
   },
   "outputs": [
    {
     "name": "stdout",
     "output_type": "stream",
     "text": [
      "49891\n"
     ]
    },
    {
     "data": {
      "text/html": [
       "<div>\n",
       "<style scoped>\n",
       "    .dataframe tbody tr th:only-of-type {\n",
       "        vertical-align: middle;\n",
       "    }\n",
       "\n",
       "    .dataframe tbody tr th {\n",
       "        vertical-align: top;\n",
       "    }\n",
       "\n",
       "    .dataframe thead th {\n",
       "        text-align: right;\n",
       "    }\n",
       "</style>\n",
       "<table border=\"1\" class=\"dataframe\">\n",
       "  <thead>\n",
       "    <tr style=\"text-align: right;\">\n",
       "      <th></th>\n",
       "      <th>icustay_id</th>\n",
       "    </tr>\n",
       "  </thead>\n",
       "  <tbody>\n",
       "    <tr>\n",
       "      <th>0</th>\n",
       "      <td>262146</td>\n",
       "    </tr>\n",
       "    <tr>\n",
       "      <th>1</th>\n",
       "      <td>262147</td>\n",
       "    </tr>\n",
       "    <tr>\n",
       "      <th>2</th>\n",
       "      <td>262156</td>\n",
       "    </tr>\n",
       "    <tr>\n",
       "      <th>3</th>\n",
       "      <td>262158</td>\n",
       "    </tr>\n",
       "    <tr>\n",
       "      <th>4</th>\n",
       "      <td>262164</td>\n",
       "    </tr>\n",
       "  </tbody>\n",
       "</table>\n",
       "</div>"
      ],
      "text/plain": [
       "   icustay_id\n",
       "0      262146\n",
       "1      262147\n",
       "2      262156\n",
       "3      262158\n",
       "4      262164"
      ]
     },
     "execution_count": 2,
     "metadata": {},
     "output_type": "execute_result"
    }
   ],
   "source": [
    "icu_stay_ids = pd.read_csv('../data/working_ids.csv', header=None, names =['icustay_id'])\n",
    "print(len(icu_stay_ids))\n",
    "icu_stay_ids.head()"
   ]
  },
  {
   "cell_type": "code",
   "execution_count": 3,
   "metadata": {
    "collapsed": false
   },
   "outputs": [
    {
     "data": {
      "text/plain": [
       "(50710, 11)"
      ]
     },
     "execution_count": 3,
     "metadata": {},
     "output_type": "execute_result"
    }
   ],
   "source": [
    "# read all stays data\n",
    "all_stays = pd.read_csv('../data/clean_readm_details.csv')\n",
    "all_stays.shape"
   ]
  },
  {
   "cell_type": "code",
   "execution_count": 4,
   "metadata": {
    "collapsed": false
   },
   "outputs": [
    {
     "data": {
      "text/html": [
       "<div>\n",
       "<style scoped>\n",
       "    .dataframe tbody tr th:only-of-type {\n",
       "        vertical-align: middle;\n",
       "    }\n",
       "\n",
       "    .dataframe tbody tr th {\n",
       "        vertical-align: top;\n",
       "    }\n",
       "\n",
       "    .dataframe thead th {\n",
       "        text-align: right;\n",
       "    }\n",
       "</style>\n",
       "<table border=\"1\" class=\"dataframe\">\n",
       "  <thead>\n",
       "    <tr style=\"text-align: right;\">\n",
       "      <th></th>\n",
       "      <th>subject_id</th>\n",
       "      <th>hadm_id</th>\n",
       "      <th>icustay_id</th>\n",
       "      <th>last_wardid</th>\n",
       "      <th>first_careunit</th>\n",
       "      <th>last_careunit</th>\n",
       "      <th>age</th>\n",
       "      <th>gender</th>\n",
       "      <th>marital_status</th>\n",
       "      <th>insurance</th>\n",
       "      <th>IsReadmitted</th>\n",
       "    </tr>\n",
       "  </thead>\n",
       "  <tbody>\n",
       "    <tr>\n",
       "      <th>0</th>\n",
       "      <td>3</td>\n",
       "      <td>145834</td>\n",
       "      <td>211552</td>\n",
       "      <td>12</td>\n",
       "      <td>MICU</td>\n",
       "      <td>MICU</td>\n",
       "      <td>76.526788</td>\n",
       "      <td>M</td>\n",
       "      <td>MARRIED</td>\n",
       "      <td>Medicare</td>\n",
       "      <td>0</td>\n",
       "    </tr>\n",
       "    <tr>\n",
       "      <th>1</th>\n",
       "      <td>4</td>\n",
       "      <td>185777</td>\n",
       "      <td>294638</td>\n",
       "      <td>52</td>\n",
       "      <td>MICU</td>\n",
       "      <td>MICU</td>\n",
       "      <td>47.845044</td>\n",
       "      <td>F</td>\n",
       "      <td>SINGLE</td>\n",
       "      <td>Private</td>\n",
       "      <td>0</td>\n",
       "    </tr>\n",
       "    <tr>\n",
       "      <th>2</th>\n",
       "      <td>6</td>\n",
       "      <td>107064</td>\n",
       "      <td>228232</td>\n",
       "      <td>33</td>\n",
       "      <td>SICU</td>\n",
       "      <td>SICU</td>\n",
       "      <td>65.940670</td>\n",
       "      <td>F</td>\n",
       "      <td>MARRIED</td>\n",
       "      <td>Medicare</td>\n",
       "      <td>0</td>\n",
       "    </tr>\n",
       "    <tr>\n",
       "      <th>3</th>\n",
       "      <td>9</td>\n",
       "      <td>150750</td>\n",
       "      <td>220597</td>\n",
       "      <td>15</td>\n",
       "      <td>MICU</td>\n",
       "      <td>MICU</td>\n",
       "      <td>41.790226</td>\n",
       "      <td>M</td>\n",
       "      <td>NaN</td>\n",
       "      <td>Medicaid</td>\n",
       "      <td>0</td>\n",
       "    </tr>\n",
       "    <tr>\n",
       "      <th>4</th>\n",
       "      <td>11</td>\n",
       "      <td>194540</td>\n",
       "      <td>229441</td>\n",
       "      <td>57</td>\n",
       "      <td>SICU</td>\n",
       "      <td>SICU</td>\n",
       "      <td>50.148292</td>\n",
       "      <td>F</td>\n",
       "      <td>MARRIED</td>\n",
       "      <td>Private</td>\n",
       "      <td>0</td>\n",
       "    </tr>\n",
       "  </tbody>\n",
       "</table>\n",
       "</div>"
      ],
      "text/plain": [
       "   subject_id  hadm_id  icustay_id  last_wardid first_careunit last_careunit  \\\n",
       "0           3   145834      211552           12           MICU          MICU   \n",
       "1           4   185777      294638           52           MICU          MICU   \n",
       "2           6   107064      228232           33           SICU          SICU   \n",
       "3           9   150750      220597           15           MICU          MICU   \n",
       "4          11   194540      229441           57           SICU          SICU   \n",
       "\n",
       "         age gender marital_status insurance  IsReadmitted  \n",
       "0  76.526788      M        MARRIED  Medicare             0  \n",
       "1  47.845044      F         SINGLE   Private             0  \n",
       "2  65.940670      F        MARRIED  Medicare             0  \n",
       "3  41.790226      M            NaN  Medicaid             0  \n",
       "4  50.148292      F        MARRIED   Private             0  "
      ]
     },
     "execution_count": 4,
     "metadata": {},
     "output_type": "execute_result"
    }
   ],
   "source": [
    "working_stays = all_stays.loc[all_stays.icustay_id.isin(icu_stay_ids.icustay_id)]\n",
    "working_stays.head()"
   ]
  },
  {
   "cell_type": "code",
   "execution_count": 5,
   "metadata": {
    "collapsed": false
   },
   "outputs": [
    {
     "data": {
      "text/plain": [
       "11.667435008318133"
      ]
     },
     "execution_count": 5,
     "metadata": {},
     "output_type": "execute_result"
    }
   ],
   "source": [
    "sum(working_stays.IsReadmitted==1)*100/len(working_stays)"
   ]
  },
  {
   "cell_type": "code",
   "execution_count": 6,
   "metadata": {
    "collapsed": false
   },
   "outputs": [
    {
     "name": "stdout",
     "output_type": "stream",
     "text": [
      "Train Set:\n",
      "11.71895878988722\n",
      "\n",
      "CV Set:\n",
      "11.512867794435982\n"
     ]
    }
   ],
   "source": [
    "icustay_id_train, icustay_id_cv = train_test_split(icu_stay_ids, test_size=0.25, random_state=29)\n",
    "\n",
    "\n",
    "train_set = all_stays.loc[all_stays.icustay_id.isin(icustay_id_train.icustay_id)]\n",
    "cv_set = all_stays.loc[all_stays.icustay_id.isin(icustay_id_cv.icustay_id)]\n",
    "print('Train Set:')\n",
    "print(sum(train_set.IsReadmitted==1)*100/len(train_set))\n",
    "\n",
    "print('\\nCV Set:')\n",
    "print(sum(cv_set.IsReadmitted==1)*100/len(cv_set))"
   ]
  },
  {
   "cell_type": "code",
   "execution_count": 7,
   "metadata": {
    "collapsed": false
   },
   "outputs": [],
   "source": [
    "folders = os.listdir(icu_stays_root_path)\n",
    "folders = list((filter(str.isdigit, folders)))"
   ]
  },
  {
   "cell_type": "code",
   "execution_count": 8,
   "metadata": {
    "collapsed": false
   },
   "outputs": [],
   "source": [
    "train_icu_ids = [x for x in folders if int(x) in list(icustay_id_train.icustay_id)]"
   ]
  },
  {
   "cell_type": "code",
   "execution_count": 9,
   "metadata": {
    "collapsed": false
   },
   "outputs": [],
   "source": [
    "cv_icu_ids = [x for x in folders if int(x) in list(cv_set.icustay_id)]"
   ]
  },
  {
   "cell_type": "code",
   "execution_count": 10,
   "metadata": {
    "collapsed": true
   },
   "outputs": [],
   "source": [
    "def move_to_partition(icu_stay_ids, partition):\n",
    "    if not os.path.exists(os.path.join(icu_stays_root_path, partition)):\n",
    "        os.mkdir(os.path.join(icu_stays_root_path, partition))\n",
    "    for icu_stay_id in icu_stay_ids:\n",
    "        src = os.path.join(icu_stays_root_path, icu_stay_id)\n",
    "        dest = os.path.join(icu_stays_root_path, partition, icu_stay_id)\n",
    "        shutil.move(src, dest)"
   ]
  },
  {
   "cell_type": "code",
   "execution_count": 12,
   "metadata": {
    "collapsed": true
   },
   "outputs": [],
   "source": [
    "normal_values = {\n",
    "            'Capillary refill rate': '0.0',\n",
    "            'Diastolic blood pressure': '59.0',\n",
    "            'Fraction inspired oxygen': '0.21',\n",
    "            'Glascow coma scale eye opening': '4 Spontaneously',\n",
    "            'Glascow coma scale motor response': '6 Obeys Commands',\n",
    "            'Glascow coma scale total': '15',\n",
    "            'Glascow coma scale verbal response': '5 Oriented',\n",
    "            'Glucose': '128.0',\n",
    "            'Heart Rate': '86',\n",
    "            'Height': '170.0',\n",
    "            'Mean blood pressure': '77.0',\n",
    "            'Oxygen saturation': '98.0',\n",
    "            'Respiratory rate': '19',\n",
    "            'Systolic blood pressure': '118.0',\n",
    "            'Temperature': '36.6',\n",
    "            'Weight': '81.0',\n",
    "            'pH': '7.4',\n",
    "        }\n",
    "\n",
    "num_cols=['Diastolic blood pressure','Fraction inspired oxygen', \\\n",
    " 'Glucose', 'Heart Rate','Height', 'Mean blood pressure', 'Oxygen saturation',\n",
    " 'Respiratory rate','Systolic blood pressure','Temperature','Weight', 'pH']\n",
    "\n",
    "cat_cols=['Glascow coma scale eye opening',\\\n",
    "          'Glascow coma scale motor response','Glascow coma scale total',\\\n",
    "          'Glascow coma scale verbal response']\n",
    "#'Capillary refill rate',\n",
    "\n",
    "with open(channel_info_file) as data_file:\n",
    "    channel_info = json.load(data_file)"
   ]
  },
  {
   "cell_type": "code",
   "execution_count": 13,
   "metadata": {
    "collapsed": true
   },
   "outputs": [],
   "source": [
    "#Function to bin data timeseries\n",
    "def bin_icu_id(timeseries,bin_width=0.8):\n",
    "    #timeseries.drop(['Height','Weight'],axis=1,inplace=True)\n",
    "    timeseries['Hours']=(timeseries['Hours']/bin_width).astype('int')       \n",
    "    timeseries=timeseries.groupby('Hours').mean().reset_index()\n",
    "    new_index = range(timeseries['Hours'].iloc[-1]+1)\n",
    "    timeseries=timeseries.set_index('Hours').reindex(new_index).reset_index()\n",
    "    \n",
    "    #missing value imputations\n",
    "    timeseries=timeseries.fillna(method='ffill')\n",
    "    timeseries=timeseries.fillna(method='bfill')  \n",
    "    return timeseries"
   ]
  },
  {
   "cell_type": "code",
   "execution_count": 14,
   "metadata": {
    "collapsed": false
   },
   "outputs": [
    {
     "name": "stdout",
     "output_type": "stream",
     "text": [
      "icustay_id=289460 12473 of 12473..."
     ]
    }
   ],
   "source": [
    "#Normalizing training dataset\n",
    "variable_ranges=pd.read_csv(variable_ranges_file)\n",
    "\n",
    "#s_min = pd.DataFrame(columns=num_cols)\n",
    "s_min = pd.Series(index=num_cols)\n",
    "#s_max = pd.DataFrame(columns=num_cols)\n",
    "s_max = pd.Series(index=num_cols)\n",
    "\n",
    "#num_train = len(icustay_id_train.icustay_id)\n",
    "num_cv = len(icustay_id_cv.icustay_id)\n",
    "\n",
    "for c,icu_id in enumerate(list(icustay_id_cv.icustay_id)):\n",
    "    #sys.stdout.write('\\ricustay_id={2} {0} of {1}...'.format(c+1, num_train, icu_id))\n",
    "    sys.stdout.write('\\ricustay_id={2} {0} of {1}...'.format(c+1, num_cv, icu_id))\n",
    "    \n",
    "    #id_file = os.path.join(output_path, 'train',str(icu_id), 'episode_timeseries.csv')\n",
    "    id_file = os.path.join(output_path, 'valid',str(icu_id), 'episode_timeseries.csv')\n",
    "    df_id = pd.read_csv(id_file)\n",
    "    \n",
    "    #cleaned_id_file = os.path.join(output_path, 'train',str(icu_id), 'cleaned_timeseries.csv')\n",
    "    cleaned_id_file = os.path.join(output_path, 'valid',str(icu_id), 'cleaned_timeseries.csv') \n",
    "    \n",
    "    \n",
    "    #handling missing values\n",
    "    df_id=df_id.fillna(method='ffill')\n",
    "    df_id=df_id.fillna(method='bfill')\n",
    "    df_id=df_id.fillna(value=normal_values)\n",
    "    \n",
    "    df_id[num_cols] = df_id[num_cols].astype('float')\n",
    "    df_id['Glascow coma scale total']=df_id['Glascow coma scale total'].astype(int).astype(str)\n",
    "    df_id['Capillary refill rate']=df_id['Capillary refill rate'].astype(float).astype(int)\n",
    "    \n",
    "    #correcting outliers\n",
    "    for num_col in num_cols:\n",
    "        if num_col=='Heart Rate':\n",
    "            num_col='Heart rate'  \n",
    "        var_range = variable_ranges[variable_ranges.LEVEL2==num_col] \n",
    "        #o_min, o_max = var_range['OUTLIER LOW'].values[0], var_range['OUTLIER HIGH'].values[0]\n",
    "        val_min, val_max = var_range['VALID LOW'].values[0], var_range['VALID HIGH'].values[0]\n",
    "        impute_val = var_range['IMPUTE'].values[0]\n",
    "\n",
    "        if num_col=='Heart rate':\n",
    "            num_col='Heart Rate'\n",
    "        '''\n",
    "        df_id[num_col] = df_id[num_col].apply(\n",
    "            lambda x: (impute_val-val_min)/(val_max-val_min)\n",
    "            if (x>val_max or x<val_min) else (x-val_min)/(val_max-val_min))\n",
    "        '''              \n",
    "        df_id[num_col] = df_id[num_col].apply(\n",
    "            lambda x:1 if x>val_max else 0 if x<val_min else (x-val_min)/(val_max-val_min))\n",
    "\n",
    "    #dummy columns for categorical variables\n",
    "    for cat_col in cat_cols:\n",
    "        vals=channel_info[cat_col]['possible_values']\n",
    "        new_vals = [cat_col+'_'+s for s in vals]\n",
    "        dummies = pd.get_dummies(df_id[cat_col], prefix=cat_col)\n",
    "        dummies = dummies.T.reindex(new_vals).T.fillna(0)\n",
    "        df_id=df_id.drop([cat_col], axis=1)\n",
    "        df_id=df_id.join(dummies)\n",
    "        \n",
    "    #Binning the Dataset\n",
    "    df_id= bin_icu_id(df_id,bin_width=0.8)\n",
    "    df_id.to_csv(cleaned_id_file, index=False)"
   ]
  }
 ],
 "metadata": {
  "anaconda-cloud": {},
  "kernelspec": {
   "display_name": "Python [default]",
   "language": "python",
   "name": "python3"
  },
  "language_info": {
   "codemirror_mode": {
    "name": "ipython",
    "version": 3
   },
   "file_extension": ".py",
   "mimetype": "text/x-python",
   "name": "python",
   "nbconvert_exporter": "python",
   "pygments_lexer": "ipython3",
   "version": "3.5.4"
  }
 },
 "nbformat": 4,
 "nbformat_minor": 1
}
