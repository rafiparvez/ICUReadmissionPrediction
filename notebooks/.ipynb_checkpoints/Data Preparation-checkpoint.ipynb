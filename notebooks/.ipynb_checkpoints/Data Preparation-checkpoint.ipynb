{
 "cells": [
  {
   "cell_type": "code",
   "execution_count": 1,
   "metadata": {
    "collapsed": true
   },
   "outputs": [],
   "source": [
    "import pandas as pd\n",
    "import numpy as np\n",
    "import psycopg2"
   ]
  },
  {
   "cell_type": "code",
   "execution_count": 70,
   "metadata": {
    "collapsed": true
   },
   "outputs": [],
   "source": [
    "#db Connection String\n",
    "# Create a database connection\n",
    "user = 'postgres'\n",
    "host = 'xx.xxx.xx.xxx'\n",
    "dbname = 'mimic'\n",
    "schema = 'mimiciii'\n",
    "password ='xxxx'\n",
    "port = '5432'"
   ]
  },
  {
   "cell_type": "code",
   "execution_count": 71,
   "metadata": {
    "collapsed": true
   },
   "outputs": [],
   "source": [
    "# Connect to the database\n",
    "con = psycopg2.connect(dbname=dbname, user=user, host=host,port=port,password=password)\n",
    "cur = con.cursor()\n",
    "cur.execute('SET search_path to {}'.format(schema))"
   ]
  },
  {
   "cell_type": "code",
   "execution_count": null,
   "metadata": {
    "collapsed": true
   },
   "outputs": [],
   "source": [
    "# Get length of stay from the icustays table\n",
    "query = \\\n",
    "\"\"\"\n",
    "SELECT * FROM admission_details\n",
    "order by subject_id, admittime,intime;\n",
    "\"\"\"\n",
    "\n",
    "df_admission_details = pd.read_sql_query(query,con)\n",
    "df_admission_details.to_csv('../data/admission_details_2.csv',index=False)"
   ]
  },
  {
   "cell_type": "code",
   "execution_count": 2,
   "metadata": {},
   "outputs": [
    {
     "data": {
      "text/html": [
       "<div>\n",
       "<style>\n",
       "    .dataframe thead tr:only-child th {\n",
       "        text-align: right;\n",
       "    }\n",
       "\n",
       "    .dataframe thead th {\n",
       "        text-align: left;\n",
       "    }\n",
       "\n",
       "    .dataframe tbody tr th {\n",
       "        vertical-align: top;\n",
       "    }\n",
       "</style>\n",
       "<table border=\"1\" class=\"dataframe\">\n",
       "  <thead>\n",
       "    <tr style=\"text-align: right;\">\n",
       "      <th></th>\n",
       "      <th>subject_id</th>\n",
       "      <th>hadm_id</th>\n",
       "      <th>admittime</th>\n",
       "      <th>dischtime</th>\n",
       "      <th>deathtime</th>\n",
       "      <th>icustay_id</th>\n",
       "      <th>intime</th>\n",
       "      <th>outtime</th>\n",
       "      <th>last_wardid</th>\n",
       "      <th>first_careunit</th>\n",
       "      <th>last_careunit</th>\n",
       "      <th>age</th>\n",
       "      <th>gender</th>\n",
       "      <th>marital_status</th>\n",
       "      <th>insurance</th>\n",
       "    </tr>\n",
       "  </thead>\n",
       "  <tbody>\n",
       "    <tr>\n",
       "      <th>0</th>\n",
       "      <td>2</td>\n",
       "      <td>163353</td>\n",
       "      <td>2138-07-17 19:04:00</td>\n",
       "      <td>2138-07-21 15:48:00</td>\n",
       "      <td>NaN</td>\n",
       "      <td>243653</td>\n",
       "      <td>2138-07-17 21:20:07</td>\n",
       "      <td>2138-07-17 23:32:21</td>\n",
       "      <td>56</td>\n",
       "      <td>NICU</td>\n",
       "      <td>NICU</td>\n",
       "      <td>0.002175</td>\n",
       "      <td>M</td>\n",
       "      <td>NaN</td>\n",
       "      <td>Private</td>\n",
       "    </tr>\n",
       "    <tr>\n",
       "      <th>1</th>\n",
       "      <td>3</td>\n",
       "      <td>145834</td>\n",
       "      <td>2101-10-20 19:08:00</td>\n",
       "      <td>2101-10-31 13:58:00</td>\n",
       "      <td>NaN</td>\n",
       "      <td>211552</td>\n",
       "      <td>2101-10-20 19:10:11</td>\n",
       "      <td>2101-10-26 20:43:09</td>\n",
       "      <td>12</td>\n",
       "      <td>MICU</td>\n",
       "      <td>MICU</td>\n",
       "      <td>76.526788</td>\n",
       "      <td>M</td>\n",
       "      <td>MARRIED</td>\n",
       "      <td>Medicare</td>\n",
       "    </tr>\n",
       "    <tr>\n",
       "      <th>2</th>\n",
       "      <td>4</td>\n",
       "      <td>185777</td>\n",
       "      <td>2191-03-16 00:28:00</td>\n",
       "      <td>2191-03-23 18:41:00</td>\n",
       "      <td>NaN</td>\n",
       "      <td>294638</td>\n",
       "      <td>2191-03-16 00:29:31</td>\n",
       "      <td>2191-03-17 16:46:31</td>\n",
       "      <td>52</td>\n",
       "      <td>MICU</td>\n",
       "      <td>MICU</td>\n",
       "      <td>47.845044</td>\n",
       "      <td>F</td>\n",
       "      <td>SINGLE</td>\n",
       "      <td>Private</td>\n",
       "    </tr>\n",
       "    <tr>\n",
       "      <th>3</th>\n",
       "      <td>5</td>\n",
       "      <td>178980</td>\n",
       "      <td>2103-02-02 04:31:00</td>\n",
       "      <td>2103-02-04 12:15:00</td>\n",
       "      <td>NaN</td>\n",
       "      <td>214757</td>\n",
       "      <td>2103-02-02 06:04:24</td>\n",
       "      <td>2103-02-02 08:06:00</td>\n",
       "      <td>56</td>\n",
       "      <td>NICU</td>\n",
       "      <td>NICU</td>\n",
       "      <td>0.000515</td>\n",
       "      <td>M</td>\n",
       "      <td>NaN</td>\n",
       "      <td>Private</td>\n",
       "    </tr>\n",
       "    <tr>\n",
       "      <th>4</th>\n",
       "      <td>6</td>\n",
       "      <td>107064</td>\n",
       "      <td>2175-05-30 07:15:00</td>\n",
       "      <td>2175-06-15 16:00:00</td>\n",
       "      <td>NaN</td>\n",
       "      <td>228232</td>\n",
       "      <td>2175-05-30 21:30:54</td>\n",
       "      <td>2175-06-03 13:39:54</td>\n",
       "      <td>33</td>\n",
       "      <td>SICU</td>\n",
       "      <td>SICU</td>\n",
       "      <td>65.940670</td>\n",
       "      <td>F</td>\n",
       "      <td>MARRIED</td>\n",
       "      <td>Medicare</td>\n",
       "    </tr>\n",
       "  </tbody>\n",
       "</table>\n",
       "</div>"
      ],
      "text/plain": [
       "   subject_id  hadm_id            admittime            dischtime deathtime  \\\n",
       "0           2   163353  2138-07-17 19:04:00  2138-07-21 15:48:00       NaN   \n",
       "1           3   145834  2101-10-20 19:08:00  2101-10-31 13:58:00       NaN   \n",
       "2           4   185777  2191-03-16 00:28:00  2191-03-23 18:41:00       NaN   \n",
       "3           5   178980  2103-02-02 04:31:00  2103-02-04 12:15:00       NaN   \n",
       "4           6   107064  2175-05-30 07:15:00  2175-06-15 16:00:00       NaN   \n",
       "\n",
       "   icustay_id               intime              outtime  last_wardid  \\\n",
       "0      243653  2138-07-17 21:20:07  2138-07-17 23:32:21           56   \n",
       "1      211552  2101-10-20 19:10:11  2101-10-26 20:43:09           12   \n",
       "2      294638  2191-03-16 00:29:31  2191-03-17 16:46:31           52   \n",
       "3      214757  2103-02-02 06:04:24  2103-02-02 08:06:00           56   \n",
       "4      228232  2175-05-30 21:30:54  2175-06-03 13:39:54           33   \n",
       "\n",
       "  first_careunit last_careunit        age gender marital_status insurance  \n",
       "0           NICU          NICU   0.002175      M            NaN   Private  \n",
       "1           MICU          MICU  76.526788      M        MARRIED  Medicare  \n",
       "2           MICU          MICU  47.845044      F         SINGLE   Private  \n",
       "3           NICU          NICU   0.000515      M            NaN   Private  \n",
       "4           SICU          SICU  65.940670      F        MARRIED  Medicare  "
      ]
     },
     "execution_count": 2,
     "metadata": {},
     "output_type": "execute_result"
    }
   ],
   "source": [
    "df_admission_details=pd.read_csv('../data/admission_details_2.csv')\n",
    "df_admission_details.head()"
   ]
  },
  {
   "cell_type": "code",
   "execution_count": 3,
   "metadata": {
    "collapsed": true
   },
   "outputs": [],
   "source": [
    "#Add column to show if readmitted\n",
    "readmit_data=df_admission_details.assign(IsReadmitted=0)"
   ]
  },
  {
   "cell_type": "code",
   "execution_count": 4,
   "metadata": {
    "collapsed": true
   },
   "outputs": [],
   "source": [
    "#convert dates from string to datetime\n",
    "readmit_data['admittime'] = readmit_data['admittime'].astype('datetime64[ns]')\n",
    "readmit_data['dischtime'] = readmit_data['dischtime'].astype('datetime64[ns]')\n",
    "readmit_data['intime'] = readmit_data['intime'].astype('datetime64[ns]')\n",
    "\n",
    "#for missing outtime, assuming icu out time was same as discharged time\n",
    "readmit_data.loc[readmit_data['outtime'].isnull(),'outtime'] = readmit_data['dischtime']\n",
    "readmit_data['outtime'] = readmit_data['outtime'].astype('datetime64[ns]')"
   ]
  },
  {
   "cell_type": "code",
   "execution_count": 5,
   "metadata": {
    "collapsed": true
   },
   "outputs": [],
   "source": [
    "#total number of admissions\n",
    "num_adms = readmit_data.shape[0]\n",
    "\n",
    "for idx in range(1,num_adms):\n",
    "    if readmit_data.subject_id[idx] == readmit_data.subject_id[idx - 1]:\n",
    "        \n",
    "\n",
    "        \n",
    "        '''\n",
    "        prev_dischtime = readmit_data.dischtime[idx-1]\n",
    "        curr_admittime = readmit_data.admittime[idx] \n",
    "        \n",
    "        readmit_time = curr_admittime - prev_dischtime\n",
    "        if readmit_time.days <0:\n",
    "            print(readmit_data.subject_id[idx])\n",
    "        '''\n",
    "        #previous icu discharge time\n",
    "        prev_outtime = readmit_data.outtime[idx-1]\n",
    "        #current icu admit time\n",
    "        curr_intime = readmit_data.intime[idx] \n",
    "        \n",
    "        readmit_time = curr_intime - prev_outtime\n",
    "        if readmit_time.days <31:\n",
    "            readmit_data.loc[idx-1, 'IsReadmitted'] = 1"
   ]
  },
  {
   "cell_type": "code",
   "execution_count": 10,
   "metadata": {
    "collapsed": true
   },
   "outputs": [],
   "source": [
    "readmit_data.to_csv('../data/readmits_details.csv',index=False)"
   ]
  },
  {
   "cell_type": "code",
   "execution_count": 8,
   "metadata": {
    "collapsed": true
   },
   "outputs": [],
   "source": [
    "df_readmission = pd.read_csv('../data/readmits_details.csv')"
   ]
  },
  {
   "cell_type": "code",
   "execution_count": 4,
   "metadata": {},
   "outputs": [
    {
     "data": {
      "text/plain": [
       "(61532, 16)"
      ]
     },
     "execution_count": 4,
     "metadata": {},
     "output_type": "execute_result"
    }
   ],
   "source": [
    "df_readmission.shape"
   ]
  },
  {
   "cell_type": "code",
   "execution_count": 12,
   "metadata": {
    "collapsed": true
   },
   "outputs": [],
   "source": [
    "#removing ppl less than 15 years of age\n",
    "df_readmission=df_readmission[(df_readmission.age>=15)]"
   ]
  },
  {
   "cell_type": "code",
   "execution_count": 13,
   "metadata": {
    "collapsed": true
   },
   "outputs": [],
   "source": [
    "#removing ppl more than 90 years of age\n",
    "df_readmission=df_readmission[(df_readmission.age<=90)]"
   ]
  },
  {
   "cell_type": "code",
   "execution_count": 14,
   "metadata": {},
   "outputs": [
    {
     "data": {
      "text/plain": [
       "(50710, 16)"
      ]
     },
     "execution_count": 14,
     "metadata": {},
     "output_type": "execute_result"
    }
   ],
   "source": [
    "df_readmission.shape"
   ]
  },
  {
   "cell_type": "code",
   "execution_count": 15,
   "metadata": {
    "collapsed": true
   },
   "outputs": [],
   "source": [
    "df_readm_clean=df_readmission.drop(['deathtime','admittime','dischtime','intime','outtime'], axis=1)"
   ]
  },
  {
   "cell_type": "code",
   "execution_count": 16,
   "metadata": {},
   "outputs": [
    {
     "data": {
      "text/plain": [
       "(50710, 11)"
      ]
     },
     "execution_count": 16,
     "metadata": {},
     "output_type": "execute_result"
    }
   ],
   "source": [
    "df_readm_clean.shape"
   ]
  },
  {
   "cell_type": "code",
   "execution_count": 17,
   "metadata": {
    "collapsed": true
   },
   "outputs": [],
   "source": [
    "df_readm_clean_2= df_readm_clean.sort_values(['subject_id', 'hadm_id','IsReadmitted'],ascending=[True,True, False])"
   ]
  },
  {
   "cell_type": "code",
   "execution_count": 38,
   "metadata": {},
   "outputs": [
    {
     "data": {
      "text/plain": [
       "(50710, 11)"
      ]
     },
     "execution_count": 38,
     "metadata": {},
     "output_type": "execute_result"
    }
   ],
   "source": [
    "df_readm_clean_2.shape"
   ]
  },
  {
   "cell_type": "code",
   "execution_count": 42,
   "metadata": {},
   "outputs": [
    {
     "data": {
      "text/plain": [
       "11.778741865509762"
      ]
     },
     "execution_count": 42,
     "metadata": {},
     "output_type": "execute_result"
    }
   ],
   "source": [
    "sum(df_readm_clean_2['IsReadmitted'])*100/len(df_readm_clean['IsReadmitted'])"
   ]
  },
  {
   "cell_type": "code",
   "execution_count": 18,
   "metadata": {},
   "outputs": [
    {
     "data": {
      "text/html": [
       "<div>\n",
       "<style>\n",
       "    .dataframe thead tr:only-child th {\n",
       "        text-align: right;\n",
       "    }\n",
       "\n",
       "    .dataframe thead th {\n",
       "        text-align: left;\n",
       "    }\n",
       "\n",
       "    .dataframe tbody tr th {\n",
       "        vertical-align: top;\n",
       "    }\n",
       "</style>\n",
       "<table border=\"1\" class=\"dataframe\">\n",
       "  <thead>\n",
       "    <tr style=\"text-align: right;\">\n",
       "      <th></th>\n",
       "      <th>subject_id</th>\n",
       "      <th>hadm_id</th>\n",
       "      <th>icustay_id</th>\n",
       "      <th>last_wardid</th>\n",
       "      <th>first_careunit</th>\n",
       "      <th>last_careunit</th>\n",
       "      <th>age</th>\n",
       "      <th>gender</th>\n",
       "      <th>marital_status</th>\n",
       "      <th>insurance</th>\n",
       "      <th>IsReadmitted</th>\n",
       "    </tr>\n",
       "  </thead>\n",
       "  <tbody>\n",
       "    <tr>\n",
       "      <th>1</th>\n",
       "      <td>3</td>\n",
       "      <td>145834</td>\n",
       "      <td>211552</td>\n",
       "      <td>12</td>\n",
       "      <td>MICU</td>\n",
       "      <td>MICU</td>\n",
       "      <td>76.526788</td>\n",
       "      <td>M</td>\n",
       "      <td>MARRIED</td>\n",
       "      <td>Medicare</td>\n",
       "      <td>0</td>\n",
       "    </tr>\n",
       "    <tr>\n",
       "      <th>2</th>\n",
       "      <td>4</td>\n",
       "      <td>185777</td>\n",
       "      <td>294638</td>\n",
       "      <td>52</td>\n",
       "      <td>MICU</td>\n",
       "      <td>MICU</td>\n",
       "      <td>47.845044</td>\n",
       "      <td>F</td>\n",
       "      <td>SINGLE</td>\n",
       "      <td>Private</td>\n",
       "      <td>0</td>\n",
       "    </tr>\n",
       "    <tr>\n",
       "      <th>4</th>\n",
       "      <td>6</td>\n",
       "      <td>107064</td>\n",
       "      <td>228232</td>\n",
       "      <td>33</td>\n",
       "      <td>SICU</td>\n",
       "      <td>SICU</td>\n",
       "      <td>65.940670</td>\n",
       "      <td>F</td>\n",
       "      <td>MARRIED</td>\n",
       "      <td>Medicare</td>\n",
       "      <td>0</td>\n",
       "    </tr>\n",
       "    <tr>\n",
       "      <th>8</th>\n",
       "      <td>9</td>\n",
       "      <td>150750</td>\n",
       "      <td>220597</td>\n",
       "      <td>15</td>\n",
       "      <td>MICU</td>\n",
       "      <td>MICU</td>\n",
       "      <td>41.790226</td>\n",
       "      <td>M</td>\n",
       "      <td>NaN</td>\n",
       "      <td>Medicaid</td>\n",
       "      <td>0</td>\n",
       "    </tr>\n",
       "    <tr>\n",
       "      <th>10</th>\n",
       "      <td>11</td>\n",
       "      <td>194540</td>\n",
       "      <td>229441</td>\n",
       "      <td>57</td>\n",
       "      <td>SICU</td>\n",
       "      <td>SICU</td>\n",
       "      <td>50.148292</td>\n",
       "      <td>F</td>\n",
       "      <td>MARRIED</td>\n",
       "      <td>Private</td>\n",
       "      <td>0</td>\n",
       "    </tr>\n",
       "  </tbody>\n",
       "</table>\n",
       "</div>"
      ],
      "text/plain": [
       "    subject_id  hadm_id  icustay_id  last_wardid first_careunit last_careunit  \\\n",
       "1            3   145834      211552           12           MICU          MICU   \n",
       "2            4   185777      294638           52           MICU          MICU   \n",
       "4            6   107064      228232           33           SICU          SICU   \n",
       "8            9   150750      220597           15           MICU          MICU   \n",
       "10          11   194540      229441           57           SICU          SICU   \n",
       "\n",
       "          age gender marital_status insurance  IsReadmitted  \n",
       "1   76.526788      M        MARRIED  Medicare             0  \n",
       "2   47.845044      F         SINGLE   Private             0  \n",
       "4   65.940670      F        MARRIED  Medicare             0  \n",
       "8   41.790226      M            NaN  Medicaid             0  \n",
       "10  50.148292      F        MARRIED   Private             0  "
      ]
     },
     "execution_count": 18,
     "metadata": {},
     "output_type": "execute_result"
    }
   ],
   "source": [
    "df_readm_clean_2.head()"
   ]
  },
  {
   "cell_type": "code",
   "execution_count": 19,
   "metadata": {
    "collapsed": true
   },
   "outputs": [],
   "source": [
    "df_readm_clean_2.to_csv('../data/clean_readm_details.csv',index=False)"
   ]
  },
  {
   "cell_type": "code",
   "execution_count": 20,
   "metadata": {
    "collapsed": true
   },
   "outputs": [],
   "source": [
    "df_readm_clean_3 = pd.read_csv('../data/clean_readm_details.csv')"
   ]
  },
  {
   "cell_type": "code",
   "execution_count": 62,
   "metadata": {},
   "outputs": [
    {
     "data": {
      "text/plain": [
       "11.822660098522167"
      ]
     },
     "execution_count": 62,
     "metadata": {},
     "output_type": "execute_result"
    }
   ],
   "source": [
    "\n",
    "from sklearn.model_selection import train_test_split\n",
    "orig, subsample = train_test_split(df_readm_clean_3, test_size=10/500, random_state=20)\n",
    "sum(subsample['IsReadmitted'])*100/len(subsample['IsReadmitted'])"
   ]
  },
  {
   "cell_type": "code",
   "execution_count": 63,
   "metadata": {},
   "outputs": [
    {
     "data": {
      "text/plain": [
       "(1015, 11)"
      ]
     },
     "execution_count": 63,
     "metadata": {},
     "output_type": "execute_result"
    }
   ],
   "source": [
    "subsample.shape"
   ]
  },
  {
   "cell_type": "code",
   "execution_count": 64,
   "metadata": {},
   "outputs": [
    {
     "data": {
      "text/plain": [
       "11.822660098522167"
      ]
     },
     "execution_count": 64,
     "metadata": {},
     "output_type": "execute_result"
    }
   ],
   "source": [
    "sum(subsample['IsReadmitted'])*100/len(subsample['IsReadmitted'])"
   ]
  },
  {
   "cell_type": "code",
   "execution_count": 66,
   "metadata": {
    "collapsed": true
   },
   "outputs": [],
   "source": [
    "subsample.to_csv('../data/subsample.csv',index=False)"
   ]
  },
  {
   "cell_type": "code",
   "execution_count": 67,
   "metadata": {
    "collapsed": true
   },
   "outputs": [],
   "source": [
    "subsample=subsample.reset_index(drop=True)"
   ]
  },
  {
   "cell_type": "code",
   "execution_count": 68,
   "metadata": {
    "collapsed": true
   },
   "outputs": [],
   "source": [
    "subsample['icustay_id'].to_csv('../data/icustay_ids.csv')"
   ]
  },
  {
   "cell_type": "code",
   "execution_count": 72,
   "metadata": {
    "collapsed": true
   },
   "outputs": [],
   "source": [
    "# Get length of stay from the icustays table\n",
    "query = \\\n",
    "\"\"\"\n",
    "SELECT * FROM charts_details;\n",
    "\"\"\"\n",
    "\n",
    "df_charts_details = pd.read_sql_query(query,con)\n",
    "df_charts_details.to_csv('../data/df_charts_details_2.csv',index=False)"
   ]
  },
  {
   "cell_type": "code",
   "execution_count": 73,
   "metadata": {},
   "outputs": [
    {
     "data": {
      "text/plain": [
       "(6282992, 5)"
      ]
     },
     "execution_count": 73,
     "metadata": {},
     "output_type": "execute_result"
    }
   ],
   "source": [
    "df_charts_details.shape"
   ]
  },
  {
   "cell_type": "code",
   "execution_count": 79,
   "metadata": {
    "collapsed": true
   },
   "outputs": [],
   "source": [
    "from collections import Counter\n",
    "cntr = Counter(df_charts_details['itemid'])\n",
    "freq_item_ids=[item_id for item_id,_ in cntr.most_common(200)]\n",
    "#print(Counter(df_charts_details['itemid']))"
   ]
  },
  {
   "cell_type": "code",
   "execution_count": 83,
   "metadata": {
    "collapsed": true
   },
   "outputs": [],
   "source": [
    "df_charts_subset = df_charts_details.loc[df_charts_details['itemid'].isin(freq_item_ids)]"
   ]
  },
  {
   "cell_type": "code",
   "execution_count": 88,
   "metadata": {},
   "outputs": [
    {
     "data": {
      "text/plain": [
       "996"
      ]
     },
     "execution_count": 88,
     "metadata": {},
     "output_type": "execute_result"
    }
   ],
   "source": [
    "len(set(df_charts_subset.icustay_id))"
   ]
  },
  {
   "cell_type": "code",
   "execution_count": 89,
   "metadata": {
    "collapsed": true
   },
   "outputs": [],
   "source": [
    "df_charts_subset.to_csv('../data/df_charts_subset.csv',index=False)"
   ]
  },
  {
   "cell_type": "code",
   "execution_count": 12,
   "metadata": {},
   "outputs": [
    {
     "name": "stderr",
     "output_type": "stream",
     "text": [
      "C:\\ProgramData\\Anaconda3\\lib\\site-packages\\IPython\\core\\interactiveshell.py:2698: DtypeWarning: Columns (3) have mixed types. Specify dtype option on import or set low_memory=False.\n",
      "  interactivity=interactivity, compiler=compiler, result=result)\n"
     ]
    }
   ],
   "source": [
    "from datetime import datetime\n",
    "#headers = ['icustay_id', 'itemid','charttime'] \n",
    "\n",
    "#dtypes = [int,int,datetime.datetime] \n",
    "\n",
    "df_charts_subset = pd.read_csv('../data/df_charts_subset.csv',dtype={\"itemid\": int, \"icustay_id\": int})"
   ]
  },
  {
   "cell_type": "code",
   "execution_count": 15,
   "metadata": {},
   "outputs": [],
   "source": [
    "df_charts_subset['charttime'] = df_charts_subset['charttime'].astype('datetime64[ns]')"
   ]
  },
  {
   "cell_type": "code",
   "execution_count": 19,
   "metadata": {},
   "outputs": [],
   "source": [
    "icu=set(df_charts_subset.icustay_id)"
   ]
  },
  {
   "cell_type": "code",
   "execution_count": 21,
   "metadata": {},
   "outputs": [
    {
     "data": {
      "text/plain": [
       "996"
      ]
     },
     "execution_count": 21,
     "metadata": {},
     "output_type": "execute_result"
    }
   ],
   "source": [
    "len(icu)"
   ]
  },
  {
   "cell_type": "code",
   "execution_count": 25,
   "metadata": {
    "collapsed": true
   },
   "outputs": [],
   "source": [
    "subsample=pd.read_csv('../data/subsample.csv')"
   ]
  },
  {
   "cell_type": "code",
   "execution_count": 23,
   "metadata": {
    "collapsed": true
   },
   "outputs": [],
   "source": [
    "df_new_subset = subsample.loc[subsample['icustay_id'].isin(icu)]"
   ]
  },
  {
   "cell_type": "code",
   "execution_count": 27,
   "metadata": {},
   "outputs": [
    {
     "data": {
      "text/plain": [
       "(996, 11)"
      ]
     },
     "execution_count": 27,
     "metadata": {},
     "output_type": "execute_result"
    }
   ],
   "source": [
    "df_new_subset.shape"
   ]
  },
  {
   "cell_type": "code",
   "execution_count": 28,
   "metadata": {},
   "outputs": [
    {
     "data": {
      "text/plain": [
       "11.947791164658634"
      ]
     },
     "execution_count": 28,
     "metadata": {},
     "output_type": "execute_result"
    }
   ],
   "source": [
    "sum(df_new_subset['IsReadmitted'])*100/len(df_new_subset['IsReadmitted'])"
   ]
  }
 ],
 "metadata": {
  "kernelspec": {
   "display_name": "Python 3",
   "language": "python",
   "name": "python3"
  },
  "language_info": {
   "codemirror_mode": {
    "name": "ipython",
    "version": 3
   },
   "file_extension": ".py",
   "mimetype": "text/x-python",
   "name": "python",
   "nbconvert_exporter": "python",
   "pygments_lexer": "ipython3",
   "version": "3.5.4"
  }
 },
 "nbformat": 4,
 "nbformat_minor": 2
}
