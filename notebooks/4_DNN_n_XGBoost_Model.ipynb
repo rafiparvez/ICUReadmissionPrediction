{
 "cells": [
  {
   "cell_type": "code",
   "execution_count": 1,
   "metadata": {
    "collapsed": true
   },
   "outputs": [],
   "source": [
    "import pandas as pd\n",
    "import numpy as np\n",
    "import psycopg2\n",
    "import matplotlib.pyplot as plt\n",
    "%matplotlib inline\n",
    "import random\n",
    "from sklearn.preprocessing import MinMaxScaler"
   ]
  },
  {
   "cell_type": "code",
   "execution_count": 9,
   "metadata": {
    "collapsed": false
   },
   "outputs": [
    {
     "data": {
      "text/html": [
       "<div>\n",
       "<style scoped>\n",
       "    .dataframe tbody tr th:only-of-type {\n",
       "        vertical-align: middle;\n",
       "    }\n",
       "\n",
       "    .dataframe tbody tr th {\n",
       "        vertical-align: top;\n",
       "    }\n",
       "\n",
       "    .dataframe thead th {\n",
       "        text-align: right;\n",
       "    }\n",
       "</style>\n",
       "<table border=\"1\" class=\"dataframe\">\n",
       "  <thead>\n",
       "    <tr style=\"text-align: right;\">\n",
       "      <th></th>\n",
       "      <th>icustay_id</th>\n",
       "      <th>sirs</th>\n",
       "      <th>oasis</th>\n",
       "      <th>sofa</th>\n",
       "      <th>sapsii</th>\n",
       "      <th>saps</th>\n",
       "    </tr>\n",
       "  </thead>\n",
       "  <tbody>\n",
       "    <tr>\n",
       "      <th>0</th>\n",
       "      <td>200001</td>\n",
       "      <td>0.75</td>\n",
       "      <td>0.600000</td>\n",
       "      <td>0.272727</td>\n",
       "      <td>0.322034</td>\n",
       "      <td>0.454545</td>\n",
       "    </tr>\n",
       "    <tr>\n",
       "      <th>1</th>\n",
       "      <td>200003</td>\n",
       "      <td>1.00</td>\n",
       "      <td>0.500000</td>\n",
       "      <td>0.272727</td>\n",
       "      <td>0.254237</td>\n",
       "      <td>0.545455</td>\n",
       "    </tr>\n",
       "    <tr>\n",
       "      <th>2</th>\n",
       "      <td>200006</td>\n",
       "      <td>0.50</td>\n",
       "      <td>0.457143</td>\n",
       "      <td>0.045455</td>\n",
       "      <td>0.169492</td>\n",
       "      <td>0.340909</td>\n",
       "    </tr>\n",
       "    <tr>\n",
       "      <th>3</th>\n",
       "      <td>200007</td>\n",
       "      <td>0.50</td>\n",
       "      <td>0.371429</td>\n",
       "      <td>0.045455</td>\n",
       "      <td>0.152542</td>\n",
       "      <td>0.136364</td>\n",
       "    </tr>\n",
       "    <tr>\n",
       "      <th>4</th>\n",
       "      <td>200009</td>\n",
       "      <td>1.00</td>\n",
       "      <td>0.357143</td>\n",
       "      <td>0.136364</td>\n",
       "      <td>0.177966</td>\n",
       "      <td>0.295455</td>\n",
       "    </tr>\n",
       "  </tbody>\n",
       "</table>\n",
       "</div>"
      ],
      "text/plain": [
       "   icustay_id  sirs     oasis      sofa    sapsii      saps\n",
       "0      200001  0.75  0.600000  0.272727  0.322034  0.454545\n",
       "1      200003  1.00  0.500000  0.272727  0.254237  0.545455\n",
       "2      200006  0.50  0.457143  0.045455  0.169492  0.340909\n",
       "3      200007  0.50  0.371429  0.045455  0.152542  0.136364\n",
       "4      200009  1.00  0.357143  0.136364  0.177966  0.295455"
      ]
     },
     "execution_count": 9,
     "metadata": {},
     "output_type": "execute_result"
    }
   ],
   "source": [
    "sev_scores=pd.read_csv('../data/sev_scores.csv')\n",
    "sev_scores[['sirs','oasis','sofa','sapsii','saps']] = MinMaxScaler().fit_transform(\n",
    "    sev_scores[['sirs','oasis','sofa','sapsii','saps']])\n",
    "sev_scores.head()"
   ]
  },
  {
   "cell_type": "code",
   "execution_count": 10,
   "metadata": {
    "collapsed": false
   },
   "outputs": [
    {
     "name": "stdout",
     "output_type": "stream",
     "text": [
      "   subject_id  hadm_id  icustay_id first_careunit last_careunit        age  \\\n",
      "0           3   145834      211552           MICU          MICU  76.526788   \n",
      "1           4   185777      294638           MICU          MICU  47.845044   \n",
      "2           6   107064      228232           SICU          SICU  65.940670   \n",
      "3           9   150750      220597           MICU          MICU  41.790226   \n",
      "4          11   194540      229441           SICU          SICU  50.148292   \n",
      "\n",
      "  gender marital_status insurance  IsReadmitted  \n",
      "0      M        MARRIED  Medicare             0  \n",
      "1      F         SINGLE   Private             0  \n",
      "2      F        MARRIED  Medicare             0  \n",
      "3      M            NaN  Medicaid             0  \n",
      "4      F        MARRIED   Private             0  \n"
     ]
    },
    {
     "data": {
      "text/html": [
       "<div>\n",
       "<style scoped>\n",
       "    .dataframe tbody tr th:only-of-type {\n",
       "        vertical-align: middle;\n",
       "    }\n",
       "\n",
       "    .dataframe tbody tr th {\n",
       "        vertical-align: top;\n",
       "    }\n",
       "\n",
       "    .dataframe thead th {\n",
       "        text-align: right;\n",
       "    }\n",
       "</style>\n",
       "<table border=\"1\" class=\"dataframe\">\n",
       "  <thead>\n",
       "    <tr style=\"text-align: right;\">\n",
       "      <th></th>\n",
       "      <th>subject_id</th>\n",
       "      <th>hadm_id</th>\n",
       "      <th>icustay_id</th>\n",
       "      <th>age</th>\n",
       "      <th>IsReadmitted</th>\n",
       "      <th>gender_F</th>\n",
       "      <th>gender_M</th>\n",
       "      <th>marital_status_DIVORCED</th>\n",
       "      <th>marital_status_LIFE PARTNER</th>\n",
       "      <th>marital_status_MARRIED</th>\n",
       "      <th>...</th>\n",
       "      <th>first_careunit_CCU</th>\n",
       "      <th>first_careunit_CSRU</th>\n",
       "      <th>first_careunit_MICU</th>\n",
       "      <th>first_careunit_SICU</th>\n",
       "      <th>first_careunit_TSICU</th>\n",
       "      <th>last_careunit_CCU</th>\n",
       "      <th>last_careunit_CSRU</th>\n",
       "      <th>last_careunit_MICU</th>\n",
       "      <th>last_careunit_SICU</th>\n",
       "      <th>last_careunit_TSICU</th>\n",
       "    </tr>\n",
       "  </thead>\n",
       "  <tbody>\n",
       "    <tr>\n",
       "      <th>0</th>\n",
       "      <td>3</td>\n",
       "      <td>145834</td>\n",
       "      <td>211552</td>\n",
       "      <td>0.831283</td>\n",
       "      <td>0</td>\n",
       "      <td>0</td>\n",
       "      <td>1</td>\n",
       "      <td>0</td>\n",
       "      <td>0</td>\n",
       "      <td>1</td>\n",
       "      <td>...</td>\n",
       "      <td>0</td>\n",
       "      <td>0</td>\n",
       "      <td>1</td>\n",
       "      <td>0</td>\n",
       "      <td>0</td>\n",
       "      <td>0</td>\n",
       "      <td>0</td>\n",
       "      <td>1</td>\n",
       "      <td>0</td>\n",
       "      <td>0</td>\n",
       "    </tr>\n",
       "    <tr>\n",
       "      <th>1</th>\n",
       "      <td>4</td>\n",
       "      <td>185777</td>\n",
       "      <td>294638</td>\n",
       "      <td>0.443434</td>\n",
       "      <td>0</td>\n",
       "      <td>1</td>\n",
       "      <td>0</td>\n",
       "      <td>0</td>\n",
       "      <td>0</td>\n",
       "      <td>0</td>\n",
       "      <td>...</td>\n",
       "      <td>0</td>\n",
       "      <td>0</td>\n",
       "      <td>1</td>\n",
       "      <td>0</td>\n",
       "      <td>0</td>\n",
       "      <td>0</td>\n",
       "      <td>0</td>\n",
       "      <td>1</td>\n",
       "      <td>0</td>\n",
       "      <td>0</td>\n",
       "    </tr>\n",
       "    <tr>\n",
       "      <th>2</th>\n",
       "      <td>6</td>\n",
       "      <td>107064</td>\n",
       "      <td>228232</td>\n",
       "      <td>0.688133</td>\n",
       "      <td>0</td>\n",
       "      <td>1</td>\n",
       "      <td>0</td>\n",
       "      <td>0</td>\n",
       "      <td>0</td>\n",
       "      <td>1</td>\n",
       "      <td>...</td>\n",
       "      <td>0</td>\n",
       "      <td>0</td>\n",
       "      <td>0</td>\n",
       "      <td>1</td>\n",
       "      <td>0</td>\n",
       "      <td>0</td>\n",
       "      <td>0</td>\n",
       "      <td>0</td>\n",
       "      <td>1</td>\n",
       "      <td>0</td>\n",
       "    </tr>\n",
       "    <tr>\n",
       "      <th>3</th>\n",
       "      <td>9</td>\n",
       "      <td>150750</td>\n",
       "      <td>220597</td>\n",
       "      <td>0.361558</td>\n",
       "      <td>0</td>\n",
       "      <td>0</td>\n",
       "      <td>1</td>\n",
       "      <td>0</td>\n",
       "      <td>0</td>\n",
       "      <td>0</td>\n",
       "      <td>...</td>\n",
       "      <td>0</td>\n",
       "      <td>0</td>\n",
       "      <td>1</td>\n",
       "      <td>0</td>\n",
       "      <td>0</td>\n",
       "      <td>0</td>\n",
       "      <td>0</td>\n",
       "      <td>1</td>\n",
       "      <td>0</td>\n",
       "      <td>0</td>\n",
       "    </tr>\n",
       "    <tr>\n",
       "      <th>4</th>\n",
       "      <td>11</td>\n",
       "      <td>194540</td>\n",
       "      <td>229441</td>\n",
       "      <td>0.474580</td>\n",
       "      <td>0</td>\n",
       "      <td>1</td>\n",
       "      <td>0</td>\n",
       "      <td>0</td>\n",
       "      <td>0</td>\n",
       "      <td>1</td>\n",
       "      <td>...</td>\n",
       "      <td>0</td>\n",
       "      <td>0</td>\n",
       "      <td>0</td>\n",
       "      <td>1</td>\n",
       "      <td>0</td>\n",
       "      <td>0</td>\n",
       "      <td>0</td>\n",
       "      <td>0</td>\n",
       "      <td>1</td>\n",
       "      <td>0</td>\n",
       "    </tr>\n",
       "  </tbody>\n",
       "</table>\n",
       "<p>5 rows × 29 columns</p>\n",
       "</div>"
      ],
      "text/plain": [
       "   subject_id  hadm_id  icustay_id       age  IsReadmitted  gender_F  \\\n",
       "0           3   145834      211552  0.831283             0         0   \n",
       "1           4   185777      294638  0.443434             0         1   \n",
       "2           6   107064      228232  0.688133             0         1   \n",
       "3           9   150750      220597  0.361558             0         0   \n",
       "4          11   194540      229441  0.474580             0         1   \n",
       "\n",
       "   gender_M  marital_status_DIVORCED  marital_status_LIFE PARTNER  \\\n",
       "0         1                        0                            0   \n",
       "1         0                        0                            0   \n",
       "2         0                        0                            0   \n",
       "3         1                        0                            0   \n",
       "4         0                        0                            0   \n",
       "\n",
       "   marital_status_MARRIED         ...           first_careunit_CCU  \\\n",
       "0                       1         ...                            0   \n",
       "1                       0         ...                            0   \n",
       "2                       1         ...                            0   \n",
       "3                       0         ...                            0   \n",
       "4                       1         ...                            0   \n",
       "\n",
       "   first_careunit_CSRU  first_careunit_MICU  first_careunit_SICU  \\\n",
       "0                    0                    1                    0   \n",
       "1                    0                    1                    0   \n",
       "2                    0                    0                    1   \n",
       "3                    0                    1                    0   \n",
       "4                    0                    0                    1   \n",
       "\n",
       "   first_careunit_TSICU  last_careunit_CCU  last_careunit_CSRU  \\\n",
       "0                     0                  0                   0   \n",
       "1                     0                  0                   0   \n",
       "2                     0                  0                   0   \n",
       "3                     0                  0                   0   \n",
       "4                     0                  0                   0   \n",
       "\n",
       "   last_careunit_MICU  last_careunit_SICU  last_careunit_TSICU  \n",
       "0                   1                   0                    0  \n",
       "1                   1                   0                    0  \n",
       "2                   0                   1                    0  \n",
       "3                   1                   0                    0  \n",
       "4                   0                   1                    0  \n",
       "\n",
       "[5 rows x 29 columns]"
      ]
     },
     "execution_count": 10,
     "metadata": {},
     "output_type": "execute_result"
    }
   ],
   "source": [
    "df_readm_clean_3 = pd.read_csv('../data/clean_readm_details.csv')\n",
    "df_readm_clean_3=df_readm_clean_3.drop(['last_wardid'], axis=1)\n",
    "\n",
    "print(df_readm_clean_3.head())\n",
    "\n",
    "df_readm_clean_3= pd.get_dummies(df_readm_clean_3,columns=['gender','marital_status','insurance','first_careunit','last_careunit'],drop_first=False)\n",
    "\n",
    "#normalize the data\n",
    "df_readm_clean_3[['age']] = MinMaxScaler().fit_transform(df_readm_clean_3[['age']])\n",
    "df_readm_clean_3.head()"
   ]
  },
  {
   "cell_type": "code",
   "execution_count": 11,
   "metadata": {
    "collapsed": false
   },
   "outputs": [
    {
     "name": "stdout",
     "output_type": "stream",
     "text": [
      "(58147, 52)\n"
     ]
    },
    {
     "data": {
      "text/html": [
       "<div>\n",
       "<style scoped>\n",
       "    .dataframe tbody tr th:only-of-type {\n",
       "        vertical-align: middle;\n",
       "    }\n",
       "\n",
       "    .dataframe tbody tr th {\n",
       "        vertical-align: top;\n",
       "    }\n",
       "\n",
       "    .dataframe thead th {\n",
       "        text-align: right;\n",
       "    }\n",
       "</style>\n",
       "<table border=\"1\" class=\"dataframe\">\n",
       "  <thead>\n",
       "    <tr style=\"text-align: right;\">\n",
       "      <th></th>\n",
       "      <th>subject_id</th>\n",
       "      <th>hadm_id</th>\n",
       "      <th>50802</th>\n",
       "      <th>50804</th>\n",
       "      <th>50808</th>\n",
       "      <th>50809</th>\n",
       "      <th>50810</th>\n",
       "      <th>50811</th>\n",
       "      <th>50813</th>\n",
       "      <th>50818</th>\n",
       "      <th>...</th>\n",
       "      <th>51254</th>\n",
       "      <th>51256</th>\n",
       "      <th>51265</th>\n",
       "      <th>51274</th>\n",
       "      <th>51275</th>\n",
       "      <th>51277</th>\n",
       "      <th>51279</th>\n",
       "      <th>51301</th>\n",
       "      <th>51491</th>\n",
       "      <th>51498</th>\n",
       "    </tr>\n",
       "  </thead>\n",
       "  <tbody>\n",
       "    <tr>\n",
       "      <th>0</th>\n",
       "      <td>2</td>\n",
       "      <td>163353</td>\n",
       "      <td>0.935417</td>\n",
       "      <td>0.401119</td>\n",
       "      <td>0.055001</td>\n",
       "      <td>0.100713</td>\n",
       "      <td>0.152705</td>\n",
       "      <td>0.152356</td>\n",
       "      <td>0.077970</td>\n",
       "      <td>0.196142</td>\n",
       "      <td>...</td>\n",
       "      <td>0.058824</td>\n",
       "      <td>0.858586</td>\n",
       "      <td>0.095640</td>\n",
       "      <td>0.047439</td>\n",
       "      <td>0.157333</td>\n",
       "      <td>0.242567</td>\n",
       "      <td>0.179478</td>\n",
       "      <td>0.023419</td>\n",
       "      <td>0.226318</td>\n",
       "      <td>0.941890</td>\n",
       "    </tr>\n",
       "    <tr>\n",
       "      <th>1</th>\n",
       "      <td>3</td>\n",
       "      <td>145834</td>\n",
       "      <td>0.924633</td>\n",
       "      <td>0.293997</td>\n",
       "      <td>0.050964</td>\n",
       "      <td>0.163450</td>\n",
       "      <td>0.138413</td>\n",
       "      <td>0.138948</td>\n",
       "      <td>0.132468</td>\n",
       "      <td>0.128554</td>\n",
       "      <td>...</td>\n",
       "      <td>0.069020</td>\n",
       "      <td>0.837374</td>\n",
       "      <td>0.132754</td>\n",
       "      <td>0.043574</td>\n",
       "      <td>0.549298</td>\n",
       "      <td>0.494105</td>\n",
       "      <td>0.249204</td>\n",
       "      <td>0.026592</td>\n",
       "      <td>0.000000</td>\n",
       "      <td>0.945249</td>\n",
       "    </tr>\n",
       "    <tr>\n",
       "      <th>2</th>\n",
       "      <td>4</td>\n",
       "      <td>185777</td>\n",
       "      <td>0.934037</td>\n",
       "      <td>0.328125</td>\n",
       "      <td>0.055001</td>\n",
       "      <td>0.100713</td>\n",
       "      <td>0.152381</td>\n",
       "      <td>0.149893</td>\n",
       "      <td>0.073469</td>\n",
       "      <td>0.114943</td>\n",
       "      <td>...</td>\n",
       "      <td>0.029020</td>\n",
       "      <td>0.912458</td>\n",
       "      <td>0.181638</td>\n",
       "      <td>0.028107</td>\n",
       "      <td>0.121269</td>\n",
       "      <td>0.456517</td>\n",
       "      <td>0.259915</td>\n",
       "      <td>0.019982</td>\n",
       "      <td>0.437500</td>\n",
       "      <td>0.935560</td>\n",
       "    </tr>\n",
       "    <tr>\n",
       "      <th>3</th>\n",
       "      <td>5</td>\n",
       "      <td>178980</td>\n",
       "      <td>0.935417</td>\n",
       "      <td>0.401119</td>\n",
       "      <td>0.055001</td>\n",
       "      <td>0.100713</td>\n",
       "      <td>0.152705</td>\n",
       "      <td>0.152356</td>\n",
       "      <td>0.077970</td>\n",
       "      <td>0.196142</td>\n",
       "      <td>...</td>\n",
       "      <td>0.058824</td>\n",
       "      <td>0.797980</td>\n",
       "      <td>0.196241</td>\n",
       "      <td>0.047439</td>\n",
       "      <td>0.157333</td>\n",
       "      <td>0.522692</td>\n",
       "      <td>0.295522</td>\n",
       "      <td>0.029515</td>\n",
       "      <td>0.226318</td>\n",
       "      <td>0.941890</td>\n",
       "    </tr>\n",
       "    <tr>\n",
       "      <th>4</th>\n",
       "      <td>6</td>\n",
       "      <td>107064</td>\n",
       "      <td>0.926348</td>\n",
       "      <td>0.331250</td>\n",
       "      <td>0.056248</td>\n",
       "      <td>0.098293</td>\n",
       "      <td>0.130476</td>\n",
       "      <td>0.129622</td>\n",
       "      <td>0.095510</td>\n",
       "      <td>0.167816</td>\n",
       "      <td>...</td>\n",
       "      <td>0.018824</td>\n",
       "      <td>0.984848</td>\n",
       "      <td>0.156743</td>\n",
       "      <td>0.037979</td>\n",
       "      <td>0.276716</td>\n",
       "      <td>0.475579</td>\n",
       "      <td>0.263983</td>\n",
       "      <td>0.028850</td>\n",
       "      <td>0.226318</td>\n",
       "      <td>0.941890</td>\n",
       "    </tr>\n",
       "  </tbody>\n",
       "</table>\n",
       "<p>5 rows × 52 columns</p>\n",
       "</div>"
      ],
      "text/plain": [
       "   subject_id  hadm_id     50802     50804     50808     50809     50810  \\\n",
       "0           2   163353  0.935417  0.401119  0.055001  0.100713  0.152705   \n",
       "1           3   145834  0.924633  0.293997  0.050964  0.163450  0.138413   \n",
       "2           4   185777  0.934037  0.328125  0.055001  0.100713  0.152381   \n",
       "3           5   178980  0.935417  0.401119  0.055001  0.100713  0.152705   \n",
       "4           6   107064  0.926348  0.331250  0.056248  0.098293  0.130476   \n",
       "\n",
       "      50811     50813     50818    ...        51254     51256     51265  \\\n",
       "0  0.152356  0.077970  0.196142    ...     0.058824  0.858586  0.095640   \n",
       "1  0.138948  0.132468  0.128554    ...     0.069020  0.837374  0.132754   \n",
       "2  0.149893  0.073469  0.114943    ...     0.029020  0.912458  0.181638   \n",
       "3  0.152356  0.077970  0.196142    ...     0.058824  0.797980  0.196241   \n",
       "4  0.129622  0.095510  0.167816    ...     0.018824  0.984848  0.156743   \n",
       "\n",
       "      51274     51275     51277     51279     51301     51491     51498  \n",
       "0  0.047439  0.157333  0.242567  0.179478  0.023419  0.226318  0.941890  \n",
       "1  0.043574  0.549298  0.494105  0.249204  0.026592  0.000000  0.945249  \n",
       "2  0.028107  0.121269  0.456517  0.259915  0.019982  0.437500  0.935560  \n",
       "3  0.047439  0.157333  0.522692  0.295522  0.029515  0.226318  0.941890  \n",
       "4  0.037979  0.276716  0.475579  0.263983  0.028850  0.226318  0.941890  \n",
       "\n",
       "[5 rows x 52 columns]"
      ]
     },
     "execution_count": 11,
     "metadata": {},
     "output_type": "execute_result"
    }
   ],
   "source": [
    "levents_pivot=pd.read_csv('../data/levents_pivot.csv')\n",
    "levents_pivot.columns = map(str.lower, levents_pivot.columns)\n",
    "\n",
    "print(levents_pivot.shape)\n",
    "#mean impute missing values\n",
    "levents_pivot=levents_pivot.fillna(levents_pivot.mean())\n",
    "\n",
    "levents_pivot=levents_pivot.set_index(['subject_id','hadm_id'])\n",
    "\n",
    "#normalize the data\n",
    "cols=levents_pivot.columns.values\n",
    "levents_pivot[cols] = MinMaxScaler().fit_transform(levents_pivot[cols])\n",
    "levents_pivot=levents_pivot.reset_index()\n",
    "levents_pivot.head()"
   ]
  },
  {
   "cell_type": "code",
   "execution_count": 12,
   "metadata": {
    "collapsed": false
   },
   "outputs": [
    {
     "data": {
      "text/html": [
       "<div>\n",
       "<style scoped>\n",
       "    .dataframe tbody tr th:only-of-type {\n",
       "        vertical-align: middle;\n",
       "    }\n",
       "\n",
       "    .dataframe tbody tr th {\n",
       "        vertical-align: top;\n",
       "    }\n",
       "\n",
       "    .dataframe thead th {\n",
       "        text-align: right;\n",
       "    }\n",
       "</style>\n",
       "<table border=\"1\" class=\"dataframe\">\n",
       "  <thead>\n",
       "    <tr style=\"text-align: right;\">\n",
       "      <th></th>\n",
       "      <th>subject_id</th>\n",
       "      <th>hadm_id</th>\n",
       "      <th>icustay_id</th>\n",
       "      <th>age</th>\n",
       "      <th>IsReadmitted</th>\n",
       "      <th>gender_F</th>\n",
       "      <th>gender_M</th>\n",
       "      <th>marital_status_DIVORCED</th>\n",
       "      <th>marital_status_LIFE PARTNER</th>\n",
       "      <th>marital_status_MARRIED</th>\n",
       "      <th>...</th>\n",
       "      <th>51277</th>\n",
       "      <th>51279</th>\n",
       "      <th>51301</th>\n",
       "      <th>51491</th>\n",
       "      <th>51498</th>\n",
       "      <th>sirs</th>\n",
       "      <th>oasis</th>\n",
       "      <th>sofa</th>\n",
       "      <th>sapsii</th>\n",
       "      <th>saps</th>\n",
       "    </tr>\n",
       "  </thead>\n",
       "  <tbody>\n",
       "    <tr>\n",
       "      <th>0</th>\n",
       "      <td>3</td>\n",
       "      <td>145834</td>\n",
       "      <td>211552</td>\n",
       "      <td>0.831283</td>\n",
       "      <td>0</td>\n",
       "      <td>0</td>\n",
       "      <td>1</td>\n",
       "      <td>0</td>\n",
       "      <td>0</td>\n",
       "      <td>1</td>\n",
       "      <td>...</td>\n",
       "      <td>0.494105</td>\n",
       "      <td>0.249204</td>\n",
       "      <td>0.026592</td>\n",
       "      <td>0.000000</td>\n",
       "      <td>0.945249</td>\n",
       "      <td>0.75</td>\n",
       "      <td>0.814286</td>\n",
       "      <td>0.318182</td>\n",
       "      <td>0.669492</td>\n",
       "      <td>0.772727</td>\n",
       "    </tr>\n",
       "    <tr>\n",
       "      <th>1</th>\n",
       "      <td>4</td>\n",
       "      <td>185777</td>\n",
       "      <td>294638</td>\n",
       "      <td>0.443434</td>\n",
       "      <td>0</td>\n",
       "      <td>1</td>\n",
       "      <td>0</td>\n",
       "      <td>0</td>\n",
       "      <td>0</td>\n",
       "      <td>0</td>\n",
       "      <td>...</td>\n",
       "      <td>0.456517</td>\n",
       "      <td>0.259915</td>\n",
       "      <td>0.019982</td>\n",
       "      <td>0.437500</td>\n",
       "      <td>0.935560</td>\n",
       "      <td>0.50</td>\n",
       "      <td>0.371429</td>\n",
       "      <td>0.181818</td>\n",
       "      <td>0.296610</td>\n",
       "      <td>0.227273</td>\n",
       "    </tr>\n",
       "    <tr>\n",
       "      <th>2</th>\n",
       "      <td>6</td>\n",
       "      <td>107064</td>\n",
       "      <td>228232</td>\n",
       "      <td>0.688133</td>\n",
       "      <td>0</td>\n",
       "      <td>1</td>\n",
       "      <td>0</td>\n",
       "      <td>0</td>\n",
       "      <td>0</td>\n",
       "      <td>1</td>\n",
       "      <td>...</td>\n",
       "      <td>0.475579</td>\n",
       "      <td>0.263983</td>\n",
       "      <td>0.028850</td>\n",
       "      <td>0.226318</td>\n",
       "      <td>0.941890</td>\n",
       "      <td>0.25</td>\n",
       "      <td>0.157143</td>\n",
       "      <td>0.181818</td>\n",
       "      <td>0.203390</td>\n",
       "      <td>0.409091</td>\n",
       "    </tr>\n",
       "    <tr>\n",
       "      <th>3</th>\n",
       "      <td>9</td>\n",
       "      <td>150750</td>\n",
       "      <td>220597</td>\n",
       "      <td>0.361558</td>\n",
       "      <td>0</td>\n",
       "      <td>0</td>\n",
       "      <td>1</td>\n",
       "      <td>0</td>\n",
       "      <td>0</td>\n",
       "      <td>0</td>\n",
       "      <td>...</td>\n",
       "      <td>0.442879</td>\n",
       "      <td>0.336101</td>\n",
       "      <td>0.028659</td>\n",
       "      <td>0.375000</td>\n",
       "      <td>0.947319</td>\n",
       "      <td>0.75</td>\n",
       "      <td>0.500000</td>\n",
       "      <td>0.227273</td>\n",
       "      <td>0.262712</td>\n",
       "      <td>0.409091</td>\n",
       "    </tr>\n",
       "    <tr>\n",
       "      <th>4</th>\n",
       "      <td>11</td>\n",
       "      <td>194540</td>\n",
       "      <td>229441</td>\n",
       "      <td>0.474580</td>\n",
       "      <td>0</td>\n",
       "      <td>1</td>\n",
       "      <td>0</td>\n",
       "      <td>0</td>\n",
       "      <td>0</td>\n",
       "      <td>1</td>\n",
       "      <td>...</td>\n",
       "      <td>0.435055</td>\n",
       "      <td>0.318460</td>\n",
       "      <td>0.020870</td>\n",
       "      <td>0.000000</td>\n",
       "      <td>0.950141</td>\n",
       "      <td>0.75</td>\n",
       "      <td>0.414286</td>\n",
       "      <td>0.090909</td>\n",
       "      <td>0.211864</td>\n",
       "      <td>0.136364</td>\n",
       "    </tr>\n",
       "  </tbody>\n",
       "</table>\n",
       "<p>5 rows × 84 columns</p>\n",
       "</div>"
      ],
      "text/plain": [
       "   subject_id  hadm_id  icustay_id       age  IsReadmitted  gender_F  \\\n",
       "0           3   145834      211552  0.831283             0         0   \n",
       "1           4   185777      294638  0.443434             0         1   \n",
       "2           6   107064      228232  0.688133             0         1   \n",
       "3           9   150750      220597  0.361558             0         0   \n",
       "4          11   194540      229441  0.474580             0         1   \n",
       "\n",
       "   gender_M  marital_status_DIVORCED  marital_status_LIFE PARTNER  \\\n",
       "0         1                        0                            0   \n",
       "1         0                        0                            0   \n",
       "2         0                        0                            0   \n",
       "3         1                        0                            0   \n",
       "4         0                        0                            0   \n",
       "\n",
       "   marital_status_MARRIED    ...        51277     51279     51301     51491  \\\n",
       "0                       1    ...     0.494105  0.249204  0.026592  0.000000   \n",
       "1                       0    ...     0.456517  0.259915  0.019982  0.437500   \n",
       "2                       1    ...     0.475579  0.263983  0.028850  0.226318   \n",
       "3                       0    ...     0.442879  0.336101  0.028659  0.375000   \n",
       "4                       1    ...     0.435055  0.318460  0.020870  0.000000   \n",
       "\n",
       "      51498  sirs     oasis      sofa    sapsii      saps  \n",
       "0  0.945249  0.75  0.814286  0.318182  0.669492  0.772727  \n",
       "1  0.935560  0.50  0.371429  0.181818  0.296610  0.227273  \n",
       "2  0.941890  0.25  0.157143  0.181818  0.203390  0.409091  \n",
       "3  0.947319  0.75  0.500000  0.227273  0.262712  0.409091  \n",
       "4  0.950141  0.75  0.414286  0.090909  0.211864  0.136364  \n",
       "\n",
       "[5 rows x 84 columns]"
      ]
     },
     "execution_count": 12,
     "metadata": {},
     "output_type": "execute_result"
    }
   ],
   "source": [
    "levents_merged = pd.merge(df_readm_clean_3, levents_pivot, how='left', on=['subject_id', 'hadm_id'])\n",
    "levents_merged = pd.merge(levents_merged, sev_scores, how='left', on=['icustay_id'])\n",
    "levents_merged.head()"
   ]
  },
  {
   "cell_type": "code",
   "execution_count": 13,
   "metadata": {
    "collapsed": false
   },
   "outputs": [
    {
     "data": {
      "text/plain": [
       "0.11778741865509762"
      ]
     },
     "execution_count": 13,
     "metadata": {},
     "output_type": "execute_result"
    }
   ],
   "source": [
    "#Ratio of readmitted cases\n",
    "sum(levents_merged.IsReadmitted==1)/len(levents_merged.IsReadmitted)"
   ]
  },
  {
   "cell_type": "code",
   "execution_count": 14,
   "metadata": {
    "collapsed": false
   },
   "outputs": [
    {
     "data": {
      "text/html": [
       "<div>\n",
       "<style scoped>\n",
       "    .dataframe tbody tr th:only-of-type {\n",
       "        vertical-align: middle;\n",
       "    }\n",
       "\n",
       "    .dataframe tbody tr th {\n",
       "        vertical-align: top;\n",
       "    }\n",
       "\n",
       "    .dataframe thead th {\n",
       "        text-align: right;\n",
       "    }\n",
       "</style>\n",
       "<table border=\"1\" class=\"dataframe\">\n",
       "  <thead>\n",
       "    <tr style=\"text-align: right;\">\n",
       "      <th></th>\n",
       "      <th>subject_id</th>\n",
       "      <th>hadm_id</th>\n",
       "      <th>icustay_id</th>\n",
       "      <th>age</th>\n",
       "      <th>IsReadmitted</th>\n",
       "      <th>gender_F</th>\n",
       "      <th>gender_M</th>\n",
       "      <th>marital_status_DIVORCED</th>\n",
       "      <th>marital_status_LIFE PARTNER</th>\n",
       "      <th>marital_status_MARRIED</th>\n",
       "      <th>...</th>\n",
       "      <th>51277</th>\n",
       "      <th>51279</th>\n",
       "      <th>51301</th>\n",
       "      <th>51491</th>\n",
       "      <th>51498</th>\n",
       "      <th>sirs</th>\n",
       "      <th>oasis</th>\n",
       "      <th>sofa</th>\n",
       "      <th>sapsii</th>\n",
       "      <th>saps</th>\n",
       "    </tr>\n",
       "  </thead>\n",
       "  <tbody>\n",
       "    <tr>\n",
       "      <th>0</th>\n",
       "      <td>3</td>\n",
       "      <td>145834</td>\n",
       "      <td>211552</td>\n",
       "      <td>0.831283</td>\n",
       "      <td>0</td>\n",
       "      <td>0</td>\n",
       "      <td>1</td>\n",
       "      <td>0</td>\n",
       "      <td>0</td>\n",
       "      <td>1</td>\n",
       "      <td>...</td>\n",
       "      <td>0.494105</td>\n",
       "      <td>0.249204</td>\n",
       "      <td>0.026592</td>\n",
       "      <td>0.000000</td>\n",
       "      <td>0.945249</td>\n",
       "      <td>0.75</td>\n",
       "      <td>0.814286</td>\n",
       "      <td>0.318182</td>\n",
       "      <td>0.669492</td>\n",
       "      <td>0.772727</td>\n",
       "    </tr>\n",
       "    <tr>\n",
       "      <th>1</th>\n",
       "      <td>4</td>\n",
       "      <td>185777</td>\n",
       "      <td>294638</td>\n",
       "      <td>0.443434</td>\n",
       "      <td>0</td>\n",
       "      <td>1</td>\n",
       "      <td>0</td>\n",
       "      <td>0</td>\n",
       "      <td>0</td>\n",
       "      <td>0</td>\n",
       "      <td>...</td>\n",
       "      <td>0.456517</td>\n",
       "      <td>0.259915</td>\n",
       "      <td>0.019982</td>\n",
       "      <td>0.437500</td>\n",
       "      <td>0.935560</td>\n",
       "      <td>0.50</td>\n",
       "      <td>0.371429</td>\n",
       "      <td>0.181818</td>\n",
       "      <td>0.296610</td>\n",
       "      <td>0.227273</td>\n",
       "    </tr>\n",
       "    <tr>\n",
       "      <th>2</th>\n",
       "      <td>6</td>\n",
       "      <td>107064</td>\n",
       "      <td>228232</td>\n",
       "      <td>0.688133</td>\n",
       "      <td>0</td>\n",
       "      <td>1</td>\n",
       "      <td>0</td>\n",
       "      <td>0</td>\n",
       "      <td>0</td>\n",
       "      <td>1</td>\n",
       "      <td>...</td>\n",
       "      <td>0.475579</td>\n",
       "      <td>0.263983</td>\n",
       "      <td>0.028850</td>\n",
       "      <td>0.226318</td>\n",
       "      <td>0.941890</td>\n",
       "      <td>0.25</td>\n",
       "      <td>0.157143</td>\n",
       "      <td>0.181818</td>\n",
       "      <td>0.203390</td>\n",
       "      <td>0.409091</td>\n",
       "    </tr>\n",
       "    <tr>\n",
       "      <th>3</th>\n",
       "      <td>9</td>\n",
       "      <td>150750</td>\n",
       "      <td>220597</td>\n",
       "      <td>0.361558</td>\n",
       "      <td>0</td>\n",
       "      <td>0</td>\n",
       "      <td>1</td>\n",
       "      <td>0</td>\n",
       "      <td>0</td>\n",
       "      <td>0</td>\n",
       "      <td>...</td>\n",
       "      <td>0.442879</td>\n",
       "      <td>0.336101</td>\n",
       "      <td>0.028659</td>\n",
       "      <td>0.375000</td>\n",
       "      <td>0.947319</td>\n",
       "      <td>0.75</td>\n",
       "      <td>0.500000</td>\n",
       "      <td>0.227273</td>\n",
       "      <td>0.262712</td>\n",
       "      <td>0.409091</td>\n",
       "    </tr>\n",
       "    <tr>\n",
       "      <th>4</th>\n",
       "      <td>11</td>\n",
       "      <td>194540</td>\n",
       "      <td>229441</td>\n",
       "      <td>0.474580</td>\n",
       "      <td>0</td>\n",
       "      <td>1</td>\n",
       "      <td>0</td>\n",
       "      <td>0</td>\n",
       "      <td>0</td>\n",
       "      <td>1</td>\n",
       "      <td>...</td>\n",
       "      <td>0.435055</td>\n",
       "      <td>0.318460</td>\n",
       "      <td>0.020870</td>\n",
       "      <td>0.000000</td>\n",
       "      <td>0.950141</td>\n",
       "      <td>0.75</td>\n",
       "      <td>0.414286</td>\n",
       "      <td>0.090909</td>\n",
       "      <td>0.211864</td>\n",
       "      <td>0.136364</td>\n",
       "    </tr>\n",
       "  </tbody>\n",
       "</table>\n",
       "<p>5 rows × 84 columns</p>\n",
       "</div>"
      ],
      "text/plain": [
       "   subject_id  hadm_id  icustay_id       age  IsReadmitted  gender_F  \\\n",
       "0           3   145834      211552  0.831283             0         0   \n",
       "1           4   185777      294638  0.443434             0         1   \n",
       "2           6   107064      228232  0.688133             0         1   \n",
       "3           9   150750      220597  0.361558             0         0   \n",
       "4          11   194540      229441  0.474580             0         1   \n",
       "\n",
       "   gender_M  marital_status_DIVORCED  marital_status_LIFE PARTNER  \\\n",
       "0         1                        0                            0   \n",
       "1         0                        0                            0   \n",
       "2         0                        0                            0   \n",
       "3         1                        0                            0   \n",
       "4         0                        0                            0   \n",
       "\n",
       "   marital_status_MARRIED    ...        51277     51279     51301     51491  \\\n",
       "0                       1    ...     0.494105  0.249204  0.026592  0.000000   \n",
       "1                       0    ...     0.456517  0.259915  0.019982  0.437500   \n",
       "2                       1    ...     0.475579  0.263983  0.028850  0.226318   \n",
       "3                       0    ...     0.442879  0.336101  0.028659  0.375000   \n",
       "4                       1    ...     0.435055  0.318460  0.020870  0.000000   \n",
       "\n",
       "      51498  sirs     oasis      sofa    sapsii      saps  \n",
       "0  0.945249  0.75  0.814286  0.318182  0.669492  0.772727  \n",
       "1  0.935560  0.50  0.371429  0.181818  0.296610  0.227273  \n",
       "2  0.941890  0.25  0.157143  0.181818  0.203390  0.409091  \n",
       "3  0.947319  0.75  0.500000  0.227273  0.262712  0.409091  \n",
       "4  0.950141  0.75  0.414286  0.090909  0.211864  0.136364  \n",
       "\n",
       "[5 rows x 84 columns]"
      ]
     },
     "execution_count": 14,
     "metadata": {},
     "output_type": "execute_result"
    }
   ],
   "source": [
    "df_data=levents_merged\n",
    "df_data=df_data.fillna(df_data.mean())\n",
    "df_data.head()"
   ]
  },
  {
   "cell_type": "code",
   "execution_count": 15,
   "metadata": {
    "collapsed": false
   },
   "outputs": [
    {
     "name": "stderr",
     "output_type": "stream",
     "text": [
      "Using TensorFlow backend.\n"
     ]
    }
   ],
   "source": [
    "from keras.models import Sequential\n",
    "from keras.layers import Dense , Dropout , Lambda, Flatten\n",
    "from keras.optimizers import Adam ,RMSprop, SGD\n",
    "from sklearn.model_selection import train_test_split"
   ]
  },
  {
   "cell_type": "code",
   "execution_count": 16,
   "metadata": {
    "collapsed": false
   },
   "outputs": [
    {
     "name": "stdout",
     "output_type": "stream",
     "text": [
      "0.1177692469499369\n",
      "0.11784193090392807\n"
     ]
    }
   ],
   "source": [
    "df_train, df_cv = train_test_split(df_data, test_size=0.25, random_state=31)\n",
    "y_train=df_train.IsReadmitted\n",
    "y_cv=df_cv.IsReadmitted\n",
    "\n",
    "X_train = df_train.drop(['IsReadmitted','subject_id','hadm_id','icustay_id'], axis=1)\n",
    "X_cv = df_cv.drop(['IsReadmitted','subject_id','hadm_id','icustay_id'], axis=1)\n",
    "\n",
    "print(sum(y_train==1)/len(y_train))\n",
    "print(sum(y_cv==1)/len(y_cv))"
   ]
  },
  {
   "cell_type": "code",
   "execution_count": 17,
   "metadata": {
    "collapsed": false
   },
   "outputs": [],
   "source": [
    "# fix random seed for reproducibility\n",
    "seed = 41\n",
    "np.random.seed(seed)"
   ]
  },
  {
   "cell_type": "code",
   "execution_count": 18,
   "metadata": {
    "collapsed": false
   },
   "outputs": [
    {
     "data": {
      "text/html": [
       "<div>\n",
       "<style scoped>\n",
       "    .dataframe tbody tr th:only-of-type {\n",
       "        vertical-align: middle;\n",
       "    }\n",
       "\n",
       "    .dataframe tbody tr th {\n",
       "        vertical-align: top;\n",
       "    }\n",
       "\n",
       "    .dataframe thead th {\n",
       "        text-align: right;\n",
       "    }\n",
       "</style>\n",
       "<table border=\"1\" class=\"dataframe\">\n",
       "  <thead>\n",
       "    <tr style=\"text-align: right;\">\n",
       "      <th></th>\n",
       "      <th>age</th>\n",
       "      <th>gender_F</th>\n",
       "      <th>gender_M</th>\n",
       "      <th>marital_status_DIVORCED</th>\n",
       "      <th>marital_status_LIFE PARTNER</th>\n",
       "      <th>marital_status_MARRIED</th>\n",
       "      <th>marital_status_SEPARATED</th>\n",
       "      <th>marital_status_SINGLE</th>\n",
       "      <th>marital_status_UNKNOWN (DEFAULT)</th>\n",
       "      <th>marital_status_WIDOWED</th>\n",
       "      <th>...</th>\n",
       "      <th>51277</th>\n",
       "      <th>51279</th>\n",
       "      <th>51301</th>\n",
       "      <th>51491</th>\n",
       "      <th>51498</th>\n",
       "      <th>sirs</th>\n",
       "      <th>oasis</th>\n",
       "      <th>sofa</th>\n",
       "      <th>sapsii</th>\n",
       "      <th>saps</th>\n",
       "    </tr>\n",
       "  </thead>\n",
       "  <tbody>\n",
       "    <tr>\n",
       "      <th>48542</th>\n",
       "      <td>0.634103</td>\n",
       "      <td>0</td>\n",
       "      <td>1</td>\n",
       "      <td>0</td>\n",
       "      <td>0</td>\n",
       "      <td>0</td>\n",
       "      <td>0</td>\n",
       "      <td>0</td>\n",
       "      <td>0</td>\n",
       "      <td>1</td>\n",
       "      <td>...</td>\n",
       "      <td>0.464648</td>\n",
       "      <td>0.188570</td>\n",
       "      <td>0.006801</td>\n",
       "      <td>0.125000</td>\n",
       "      <td>0.937690</td>\n",
       "      <td>0.75</td>\n",
       "      <td>0.571429</td>\n",
       "      <td>0.500000</td>\n",
       "      <td>0.576271</td>\n",
       "      <td>0.545455</td>\n",
       "    </tr>\n",
       "    <tr>\n",
       "      <th>28724</th>\n",
       "      <td>0.967821</td>\n",
       "      <td>1</td>\n",
       "      <td>0</td>\n",
       "      <td>0</td>\n",
       "      <td>0</td>\n",
       "      <td>1</td>\n",
       "      <td>0</td>\n",
       "      <td>0</td>\n",
       "      <td>0</td>\n",
       "      <td>0</td>\n",
       "      <td>...</td>\n",
       "      <td>0.480125</td>\n",
       "      <td>0.302239</td>\n",
       "      <td>0.027590</td>\n",
       "      <td>0.000000</td>\n",
       "      <td>0.946378</td>\n",
       "      <td>1.00</td>\n",
       "      <td>0.728571</td>\n",
       "      <td>0.363636</td>\n",
       "      <td>0.474576</td>\n",
       "      <td>0.750000</td>\n",
       "    </tr>\n",
       "    <tr>\n",
       "      <th>39684</th>\n",
       "      <td>0.691176</td>\n",
       "      <td>0</td>\n",
       "      <td>1</td>\n",
       "      <td>0</td>\n",
       "      <td>0</td>\n",
       "      <td>1</td>\n",
       "      <td>0</td>\n",
       "      <td>0</td>\n",
       "      <td>0</td>\n",
       "      <td>0</td>\n",
       "      <td>...</td>\n",
       "      <td>0.444131</td>\n",
       "      <td>0.261493</td>\n",
       "      <td>0.016254</td>\n",
       "      <td>0.312500</td>\n",
       "      <td>0.947789</td>\n",
       "      <td>0.75</td>\n",
       "      <td>0.542857</td>\n",
       "      <td>0.272727</td>\n",
       "      <td>0.271186</td>\n",
       "      <td>0.431818</td>\n",
       "    </tr>\n",
       "    <tr>\n",
       "      <th>18245</th>\n",
       "      <td>0.658079</td>\n",
       "      <td>0</td>\n",
       "      <td>1</td>\n",
       "      <td>0</td>\n",
       "      <td>0</td>\n",
       "      <td>1</td>\n",
       "      <td>0</td>\n",
       "      <td>0</td>\n",
       "      <td>0</td>\n",
       "      <td>0</td>\n",
       "      <td>...</td>\n",
       "      <td>0.438445</td>\n",
       "      <td>0.270723</td>\n",
       "      <td>0.022794</td>\n",
       "      <td>0.267857</td>\n",
       "      <td>0.942078</td>\n",
       "      <td>1.00</td>\n",
       "      <td>0.600000</td>\n",
       "      <td>0.181818</td>\n",
       "      <td>0.330508</td>\n",
       "      <td>0.477273</td>\n",
       "    </tr>\n",
       "    <tr>\n",
       "      <th>23149</th>\n",
       "      <td>0.915499</td>\n",
       "      <td>1</td>\n",
       "      <td>0</td>\n",
       "      <td>0</td>\n",
       "      <td>0</td>\n",
       "      <td>1</td>\n",
       "      <td>0</td>\n",
       "      <td>0</td>\n",
       "      <td>0</td>\n",
       "      <td>0</td>\n",
       "      <td>...</td>\n",
       "      <td>0.438632</td>\n",
       "      <td>0.239659</td>\n",
       "      <td>0.021998</td>\n",
       "      <td>0.226318</td>\n",
       "      <td>0.941890</td>\n",
       "      <td>1.00</td>\n",
       "      <td>0.471429</td>\n",
       "      <td>0.136364</td>\n",
       "      <td>0.288136</td>\n",
       "      <td>0.477273</td>\n",
       "    </tr>\n",
       "  </tbody>\n",
       "</table>\n",
       "<p>5 rows × 80 columns</p>\n",
       "</div>"
      ],
      "text/plain": [
       "            age  gender_F  gender_M  marital_status_DIVORCED  \\\n",
       "48542  0.634103         0         1                        0   \n",
       "28724  0.967821         1         0                        0   \n",
       "39684  0.691176         0         1                        0   \n",
       "18245  0.658079         0         1                        0   \n",
       "23149  0.915499         1         0                        0   \n",
       "\n",
       "       marital_status_LIFE PARTNER  marital_status_MARRIED  \\\n",
       "48542                            0                       0   \n",
       "28724                            0                       1   \n",
       "39684                            0                       1   \n",
       "18245                            0                       1   \n",
       "23149                            0                       1   \n",
       "\n",
       "       marital_status_SEPARATED  marital_status_SINGLE  \\\n",
       "48542                         0                      0   \n",
       "28724                         0                      0   \n",
       "39684                         0                      0   \n",
       "18245                         0                      0   \n",
       "23149                         0                      0   \n",
       "\n",
       "       marital_status_UNKNOWN (DEFAULT)  marital_status_WIDOWED    ...     \\\n",
       "48542                                 0                       1    ...      \n",
       "28724                                 0                       0    ...      \n",
       "39684                                 0                       0    ...      \n",
       "18245                                 0                       0    ...      \n",
       "23149                                 0                       0    ...      \n",
       "\n",
       "          51277     51279     51301     51491     51498  sirs     oasis  \\\n",
       "48542  0.464648  0.188570  0.006801  0.125000  0.937690  0.75  0.571429   \n",
       "28724  0.480125  0.302239  0.027590  0.000000  0.946378  1.00  0.728571   \n",
       "39684  0.444131  0.261493  0.016254  0.312500  0.947789  0.75  0.542857   \n",
       "18245  0.438445  0.270723  0.022794  0.267857  0.942078  1.00  0.600000   \n",
       "23149  0.438632  0.239659  0.021998  0.226318  0.941890  1.00  0.471429   \n",
       "\n",
       "           sofa    sapsii      saps  \n",
       "48542  0.500000  0.576271  0.545455  \n",
       "28724  0.363636  0.474576  0.750000  \n",
       "39684  0.272727  0.271186  0.431818  \n",
       "18245  0.181818  0.330508  0.477273  \n",
       "23149  0.136364  0.288136  0.477273  \n",
       "\n",
       "[5 rows x 80 columns]"
      ]
     },
     "execution_count": 18,
     "metadata": {},
     "output_type": "execute_result"
    }
   ],
   "source": [
    "X_train.head()"
   ]
  },
  {
   "cell_type": "code",
   "execution_count": 20,
   "metadata": {
    "collapsed": false
   },
   "outputs": [
    {
     "data": {
      "text/plain": [
       "48542    1\n",
       "28724    0\n",
       "39684    0\n",
       "18245    0\n",
       "23149    0\n",
       "Name: IsReadmitted, dtype: int64"
      ]
     },
     "execution_count": 20,
     "metadata": {},
     "output_type": "execute_result"
    }
   ],
   "source": [
    "y_train.head()"
   ]
  },
  {
   "cell_type": "code",
   "execution_count": 21,
   "metadata": {
    "collapsed": false
   },
   "outputs": [],
   "source": [
    "X_tr=X_train.reset_index(drop=True).values\n",
    "y_tr=y_train.reset_index(drop=True).values\n",
    "X_tr=np.float32(X_tr)\n",
    "y_tr=np.float32(y_tr)\n",
    "\n",
    "X_val=X_cv.reset_index(drop=True).values\n",
    "y_val=y_cv.reset_index(drop=True).values\n",
    "X_val=np.float32(X_val)\n",
    "y_val=np.float32(y_val)"
   ]
  },
  {
   "cell_type": "code",
   "execution_count": 22,
   "metadata": {
    "collapsed": false
   },
   "outputs": [
    {
     "name": "stdout",
     "output_type": "stream",
     "text": [
      "_________________________________________________________________\n",
      "Layer (type)                 Output Shape              Param #   \n",
      "=================================================================\n",
      "dense_1 (Dense)              (None, 80)                6480      \n",
      "_________________________________________________________________\n",
      "dense_2 (Dense)              (None, 40)                3240      \n",
      "_________________________________________________________________\n",
      "dense_3 (Dense)              (None, 10)                410       \n",
      "_________________________________________________________________\n",
      "dropout_1 (Dropout)          (None, 10)                0         \n",
      "_________________________________________________________________\n",
      "dense_4 (Dense)              (None, 1)                 11        \n",
      "=================================================================\n",
      "Total params: 10,141\n",
      "Trainable params: 10,141\n",
      "Non-trainable params: 0\n",
      "_________________________________________________________________\n",
      "None\n"
     ]
    }
   ],
   "source": [
    "model = Sequential()\n",
    "model.add(Dense(80, input_dim=X_tr.shape[1], activation='relu'))\n",
    "model.add(Dense(40, activation='relu'))\n",
    "model.add(Dense(10, activation='sigmoid'))\n",
    "model.add(Dropout(0.10))\n",
    "optimizer = 'adam'\n",
    "model.add(Dense(1, activation='sigmoid'))\n",
    "\n",
    "# Compile model\n",
    "model.compile(loss='binary_crossentropy', optimizer=optimizer, metrics=['accuracy'])\n",
    "print(model.summary())"
   ]
  },
  {
   "cell_type": "code",
   "execution_count": 23,
   "metadata": {
    "collapsed": false
   },
   "outputs": [
    {
     "name": "stdout",
     "output_type": "stream",
     "text": [
      "Epoch 1/60\n",
      "38032/38032 [==============================] - 3s - loss: 0.3664 - acc: 0.8817     \n",
      "Epoch 2/60\n",
      "38032/38032 [==============================] - 3s - loss: 0.3519 - acc: 0.8822     \n",
      "Epoch 3/60\n",
      "38032/38032 [==============================] - 3s - loss: 0.3472 - acc: 0.8823     \n",
      "Epoch 4/60\n",
      "38032/38032 [==============================] - 3s - loss: 0.3441 - acc: 0.8822     \n",
      "Epoch 5/60\n",
      "38032/38032 [==============================] - 2s - loss: 0.3427 - acc: 0.8822     \n",
      "Epoch 6/60\n",
      "38032/38032 [==============================] - 3s - loss: 0.3419 - acc: 0.8822     \n",
      "Epoch 7/60\n",
      "38032/38032 [==============================] - 3s - loss: 0.3397 - acc: 0.8822     \n",
      "Epoch 8/60\n",
      "38032/38032 [==============================] - 3s - loss: 0.3384 - acc: 0.8823     \n",
      "Epoch 9/60\n",
      "38032/38032 [==============================] - 3s - loss: 0.3375 - acc: 0.8822     \n",
      "Epoch 10/60\n",
      "38032/38032 [==============================] - 3s - loss: 0.3364 - acc: 0.8822     \n",
      "Epoch 11/60\n",
      "38032/38032 [==============================] - 3s - loss: 0.3363 - acc: 0.8822     \n",
      "Epoch 12/60\n",
      "38032/38032 [==============================] - 2s - loss: 0.3355 - acc: 0.8822     \n",
      "Epoch 13/60\n",
      "38032/38032 [==============================] - 3s - loss: 0.3343 - acc: 0.8821     \n",
      "Epoch 14/60\n",
      "38032/38032 [==============================] - 2s - loss: 0.3340 - acc: 0.8823     \n",
      "Epoch 15/60\n",
      "38032/38032 [==============================] - 3s - loss: 0.3334 - acc: 0.8823     \n",
      "Epoch 16/60\n",
      "38032/38032 [==============================] - 3s - loss: 0.3320 - acc: 0.8822     \n",
      "Epoch 17/60\n",
      "38032/38032 [==============================] - 3s - loss: 0.3320 - acc: 0.8819     \n",
      "Epoch 18/60\n",
      "38032/38032 [==============================] - 3s - loss: 0.3317 - acc: 0.8824     \n",
      "Epoch 19/60\n",
      "38032/38032 [==============================] - 3s - loss: 0.3313 - acc: 0.8824     \n",
      "Epoch 20/60\n",
      "38032/38032 [==============================] - 3s - loss: 0.3304 - acc: 0.8827     \n",
      "Epoch 21/60\n",
      "38032/38032 [==============================] - 3s - loss: 0.3292 - acc: 0.8824     \n",
      "Epoch 22/60\n",
      "38032/38032 [==============================] - 3s - loss: 0.3297 - acc: 0.8824     \n",
      "Epoch 23/60\n",
      "38032/38032 [==============================] - 3s - loss: 0.3289 - acc: 0.8825     \n",
      "Epoch 24/60\n",
      "38032/38032 [==============================] - 3s - loss: 0.3284 - acc: 0.8821     \n",
      "Epoch 25/60\n",
      "38032/38032 [==============================] - 3s - loss: 0.3276 - acc: 0.8826     \n",
      "Epoch 26/60\n",
      "38032/38032 [==============================] - 3s - loss: 0.3268 - acc: 0.8829     \n",
      "Epoch 27/60\n",
      "38032/38032 [==============================] - 3s - loss: 0.3269 - acc: 0.8822     \n",
      "Epoch 28/60\n",
      "38032/38032 [==============================] - 3s - loss: 0.3262 - acc: 0.8827     \n",
      "Epoch 29/60\n",
      "38032/38032 [==============================] - 3s - loss: 0.3266 - acc: 0.8828     \n",
      "Epoch 30/60\n",
      "38032/38032 [==============================] - 3s - loss: 0.3250 - acc: 0.8831     \n",
      "Epoch 31/60\n",
      "38032/38032 [==============================] - 3s - loss: 0.3248 - acc: 0.8833     \n",
      "Epoch 32/60\n",
      "38032/38032 [==============================] - 3s - loss: 0.3241 - acc: 0.8836     \n",
      "Epoch 33/60\n",
      "38032/38032 [==============================] - 3s - loss: 0.3237 - acc: 0.8838     \n",
      "Epoch 34/60\n",
      "38032/38032 [==============================] - 3s - loss: 0.3231 - acc: 0.8837     \n",
      "Epoch 35/60\n",
      "38032/38032 [==============================] - 3s - loss: 0.3226 - acc: 0.8833     \n",
      "Epoch 36/60\n",
      "38032/38032 [==============================] - 3s - loss: 0.3216 - acc: 0.8836     \n",
      "Epoch 37/60\n",
      "38032/38032 [==============================] - 3s - loss: 0.3211 - acc: 0.8841     \n",
      "Epoch 38/60\n",
      "38032/38032 [==============================] - 3s - loss: 0.3212 - acc: 0.8839     \n",
      "Epoch 39/60\n",
      "38032/38032 [==============================] - 3s - loss: 0.3202 - acc: 0.8847     \n",
      "Epoch 40/60\n",
      "38032/38032 [==============================] - 3s - loss: 0.3201 - acc: 0.8842     \n",
      "Epoch 41/60\n",
      "38032/38032 [==============================] - 3s - loss: 0.3193 - acc: 0.8848     \n",
      "Epoch 42/60\n",
      "38032/38032 [==============================] - 3s - loss: 0.3191 - acc: 0.8845     \n",
      "Epoch 43/60\n",
      "38032/38032 [==============================] - 3s - loss: 0.3186 - acc: 0.8849     \n",
      "Epoch 44/60\n",
      "38032/38032 [==============================] - 3s - loss: 0.3177 - acc: 0.8845     \n",
      "Epoch 45/60\n",
      "38032/38032 [==============================] - 3s - loss: 0.3167 - acc: 0.8846     \n",
      "Epoch 46/60\n",
      "38032/38032 [==============================] - 3s - loss: 0.3171 - acc: 0.8853     \n",
      "Epoch 47/60\n",
      "38032/38032 [==============================] - 3s - loss: 0.3158 - acc: 0.8855     \n",
      "Epoch 48/60\n",
      "38032/38032 [==============================] - 3s - loss: 0.3157 - acc: 0.8854     \n",
      "Epoch 49/60\n",
      "38032/38032 [==============================] - 3s - loss: 0.3150 - acc: 0.8857     \n",
      "Epoch 50/60\n",
      "38032/38032 [==============================] - 3s - loss: 0.3151 - acc: 0.8856     \n",
      "Epoch 51/60\n",
      "38032/38032 [==============================] - 3s - loss: 0.3135 - acc: 0.8855     \n",
      "Epoch 52/60\n",
      "38032/38032 [==============================] - 3s - loss: 0.3127 - acc: 0.8868     \n",
      "Epoch 53/60\n",
      "38032/38032 [==============================] - 3s - loss: 0.3126 - acc: 0.8863     \n",
      "Epoch 54/60\n",
      "38032/38032 [==============================] - 2s - loss: 0.3123 - acc: 0.8865     \n",
      "Epoch 55/60\n",
      "38032/38032 [==============================] - 2s - loss: 0.3110 - acc: 0.8868     \n",
      "Epoch 56/60\n",
      "38032/38032 [==============================] - 2s - loss: 0.3105 - acc: 0.8877     \n",
      "Epoch 57/60\n",
      "38032/38032 [==============================] - 3s - loss: 0.3102 - acc: 0.8872     \n",
      "Epoch 58/60\n",
      "38032/38032 [==============================] - 3s - loss: 0.3095 - acc: 0.8871     \n",
      "Epoch 59/60\n",
      "38032/38032 [==============================] - 2s - loss: 0.3087 - acc: 0.8872     \n",
      "Epoch 60/60\n",
      "38032/38032 [==============================] - 2s - loss: 0.3083 - acc: 0.8870     \n"
     ]
    },
    {
     "data": {
      "text/plain": [
       "<keras.callbacks.History at 0x7f9a437d7da0>"
      ]
     },
     "execution_count": 23,
     "metadata": {},
     "output_type": "execute_result"
    }
   ],
   "source": [
    "# Fit the model\n",
    "model.fit(X_tr, y_tr, epochs=60, batch_size=20)"
   ]
  },
  {
   "cell_type": "code",
   "execution_count": 24,
   "metadata": {
    "collapsed": false
   },
   "outputs": [
    {
     "data": {
      "text/plain": [
       "<matplotlib.legend.Legend at 0x7f9a42b79b00>"
      ]
     },
     "execution_count": 24,
     "metadata": {},
     "output_type": "execute_result"
    },
    {
     "data": {
      "image/png": "[encoded data removed]",
      "text/plain": [
       "<matplotlib.figure.Figure at 0x7f9a42b79550>"
      ]
     },
     "metadata": {},
     "output_type": "display_data"
    }
   ],
   "source": [
    "preds = model.predict(X_val)\n",
    "\n",
    "from sklearn.metrics import roc_curve, auc\n",
    "\n",
    "# get 0/1 binary lable for each patient encounter\n",
    "label = y_cv\n",
    "\n",
    "# get the last prediction in [0,1] for the patient\n",
    "prediction = preds\n",
    "\n",
    "# compute ROC curve for predictions\n",
    "rnn_roc = roc_curve(label,prediction)\n",
    "\n",
    "# compute the area under the curve of prediction ROC\n",
    "rnn_auc = auc(rnn_roc[0], rnn_roc[1])\n",
    "plt.figure(figsize=(7, 5))\n",
    "line_kwargs = {'linewidth': 4, 'alpha': 0.8}\n",
    "plt.plot(rnn_roc[0], rnn_roc[1], label='AUROC-DNN: %0.3f' % rnn_auc, color='blue', **line_kwargs)\n",
    "plt.legend(loc='lower right', fontsize=20)"
   ]
  },
  {
   "cell_type": "markdown",
   "metadata": {},
   "source": [
    "--- \n",
    "\n",
    "## Interpretable Model"
   ]
  },
  {
   "cell_type": "code",
   "execution_count": 95,
   "metadata": {
    "collapsed": false
   },
   "outputs": [
    {
     "name": "stdout",
     "output_type": "stream",
     "text": [
      "Fetching package metadata ...........\n",
      "Solving package specifications: .\n",
      "\n",
      "Package plan for installation in environment /home/rafiparvez1706/anaconda3:\n",
      "\n",
      "The following NEW packages will be INSTALLED:\n",
      "\n",
      "    libxgboost: 0.60-hdfa14d8_0                     \n",
      "    py-xgboost: 0.60-py35np112h32b46d2_0            \n",
      "\n",
      "The following packages will be UPDATED:\n",
      "\n",
      "    conda:      4.3.29-py35_0            conda-forge --> 4.3.30-py35hf9359ed_0\n",
      "    conda-env:  2.6.0-0                  conda-forge --> 2.6.0-h36134e3_1     \n",
      "\n",
      "The following packages will be DOWNGRADED:\n",
      "\n",
      "    numpy:      1.13.3-py35hd829ed6_0                --> 1.12.1-py35hca0bb5e_1\n",
      "\n",
      "libxgboost-0.6 100% |################################| Time: 0:00:00  16.81 MB/s\n",
      "numpy-1.12.1-p 100% |################################| Time: 0:00:00  38.17 MB/s\n",
      "py-xgboost-0.6 100% |################################| Time: 0:00:00  47.28 MB/s\n"
     ]
    }
   ],
   "source": [
    "#!conda install py-xgboost -y"
   ]
  },
  {
   "cell_type": "code",
   "execution_count": 25,
   "metadata": {
    "collapsed": false
   },
   "outputs": [
    {
     "name": "stderr",
     "output_type": "stream",
     "text": [
      "/home/rafiparvez1706/anaconda3/lib/python3.5/site-packages/sklearn/cross_validation.py:41: DeprecationWarning: This module was deprecated in version 0.18 in favor of the model_selection module into which all the refactored classes and functions are moved. Also note that the interface of the new CV iterators are different from that of this module. This module will be removed in 0.20.\n",
      "  \"This module will be removed in 0.20.\", DeprecationWarning)\n",
      "/home/rafiparvez1706/anaconda3/lib/python3.5/site-packages/sklearn/grid_search.py:42: DeprecationWarning: This module was deprecated in version 0.18 in favor of the model_selection module into which all the refactored classes and functions are moved. This module will be removed in 0.20.\n",
      "  DeprecationWarning)\n"
     ]
    }
   ],
   "source": [
    "import xgboost as xgb\n",
    "from sklearn import preprocessing\n",
    "from sklearn.cross_validation import train_test_split\n",
    "\n",
    "from sklearn.cross_validation import *\n",
    "from sklearn.grid_search import GridSearchCV\n",
    "\n",
    "from xgboost import plot_importance\n",
    "from matplotlib import pyplot"
   ]
  },
  {
   "cell_type": "code",
   "execution_count": null,
   "metadata": {
    "collapsed": true
   },
   "outputs": [],
   "source": [
    "xgb_model = xgb.XGBRegressor()"
   ]
  },
  {
   "cell_type": "code",
   "execution_count": 27,
   "metadata": {
    "collapsed": true
   },
   "outputs": [],
   "source": [
    "parameters = {'nthread':[4], #when use hyperthread, xgboost may become slower\n",
    "              'objective':['binary:logistic'],\n",
    "              'learning_rate': [0.05], #so called `eta` value\n",
    "              'max_depth': [6],\n",
    "              'min_child_weight': [11],\n",
    "              'silent': [1],\n",
    "              'subsample': [0.8],\n",
    "              'colsample_bytree': [0.7],\n",
    "              'n_estimators': [5], #number of trees, change it to 1000 for better results\n",
    "              'missing':[-999],\n",
    "              'seed': [1337]}"
   ]
  },
  {
   "cell_type": "code",
   "execution_count": 28,
   "metadata": {
    "collapsed": false
   },
   "outputs": [
    {
     "name": "stdout",
     "output_type": "stream",
     "text": [
      "Fitting 5 folds for each of 1 candidates, totalling 5 fits\n",
      "[CV] colsample_bytree=0.7, subsample=0.8, max_depth=6, learning_rate=0.05, min_child_weight=11, missing=-999, seed=1337, n_estimators=5, objective=binary:logistic, silent=1, nthread=4 \n",
      "[CV] colsample_bytree=0.7, subsample=0.8, max_depth=6, learning_rate=0.05, min_child_weight=11, missing=-999, seed=1337, n_estimators=5, objective=binary:logistic, silent=1, nthread=4 \n",
      "[CV] colsample_bytree=0.7, subsample=0.8, max_depth=6, learning_rate=0.05, min_child_weight=11, missing=-999, seed=1337, n_estimators=5, objective=binary:logistic, silent=1, nthread=4 \n",
      "[CV] colsample_bytree=0.7, subsample=0.8, max_depth=6, learning_rate=0.05, min_child_weight=11, missing=-999, seed=1337, n_estimators=5, objective=binary:logistic, silent=1, nthread=4 \n",
      "[CV] colsample_bytree=0.7, subsample=0.8, max_depth=6, learning_rate=0.05, min_child_weight=11, missing=-999, seed=1337, n_estimators=5, objective=binary:logistic, silent=1, nthread=4 \n",
      "[CV]  colsample_bytree=0.7, subsample=0.8, max_depth=6, learning_rate=0.05, min_child_weight=11, missing=-999, seed=1337, n_estimators=5, objective=binary:logistic, silent=1, nthread=4 -   1.6s\n",
      "[CV]  colsample_bytree=0.7, subsample=0.8, max_depth=6, learning_rate=0.05, min_child_weight=11, missing=-999, seed=1337, n_estimators=5, objective=binary:logistic, silent=1, nthread=4 -   1.7s\n",
      "[CV]  colsample_bytree=0.7, subsample=0.8, max_depth=6, learning_rate=0.05, min_child_weight=11, missing=-999, seed=1337, n_estimators=5, objective=binary:logistic, silent=1, nthread=4 -   1.8s\n"
     ]
    },
    {
     "name": "stderr",
     "output_type": "stream",
     "text": [
      "[Parallel(n_jobs=5)]: Done   2 out of   5 | elapsed:    2.0s remaining:    3.0s\n"
     ]
    },
    {
     "name": "stdout",
     "output_type": "stream",
     "text": [
      "[CV]  colsample_bytree=0.7, subsample=0.8, max_depth=6, learning_rate=0.05, min_child_weight=11, missing=-999, seed=1337, n_estimators=5, objective=binary:logistic, silent=1, nthread=4 -   1.9s\n",
      "[CV]  colsample_bytree=0.7, subsample=0.8, max_depth=6, learning_rate=0.05, min_child_weight=11, missing=-999, seed=1337, n_estimators=5, objective=binary:logistic, silent=1, nthread=4 -   2.0s\n"
     ]
    },
    {
     "name": "stderr",
     "output_type": "stream",
     "text": [
      "[Parallel(n_jobs=5)]: Done   5 out of   5 | elapsed:    2.2s remaining:    0.0s\n",
      "[Parallel(n_jobs=5)]: Done   5 out of   5 | elapsed:    2.2s finished\n"
     ]
    },
    {
     "data": {
      "text/plain": [
       "GridSearchCV(cv=sklearn.cross_validation.StratifiedKFold(labels=[1 0 ..., 0 1], n_folds=5, shuffle=True, random_state=None),\n",
       "       error_score='raise',\n",
       "       estimator=XGBRegressor(base_score=0.5, colsample_bylevel=1, colsample_bytree=1, gamma=0,\n",
       "       learning_rate=0.1, max_delta_step=0, max_depth=3,\n",
       "       min_child_weight=1, missing=None, n_estimators=100, nthread=-1,\n",
       "       objective='reg:linear', reg_alpha=0, reg_lambda=1,\n",
       "       scale_pos_weight=1, seed=0, silent=True, subsample=1),\n",
       "       fit_params={}, iid=True, n_jobs=5,\n",
       "       param_grid={'colsample_bytree': [0.7], 'subsample': [0.8], 'max_depth': [6], 'silent': [1], 'learning_rate': [0.05], 'min_child_weight': [11], 'missing': [-999], 'seed': [1337], 'n_estimators': [5], 'nthread': [4], 'objective': ['binary:logistic']},\n",
       "       pre_dispatch='2*n_jobs', refit=True, scoring='roc_auc', verbose=2)"
      ]
     },
     "execution_count": 28,
     "metadata": {},
     "output_type": "execute_result"
    }
   ],
   "source": [
    "clf = GridSearchCV(xgb_model, parameters, n_jobs=5, \n",
    "                   cv=StratifiedKFold(y_train, n_folds=5, shuffle=True), \n",
    "                   scoring='roc_auc',\n",
    "                   verbose=2, refit=True)\n",
    "\n",
    "clf.fit(X_train,y_train)"
   ]
  },
  {
   "cell_type": "code",
   "execution_count": 29,
   "metadata": {
    "collapsed": false
   },
   "outputs": [
    {
     "name": "stdout",
     "output_type": "stream",
     "text": [
      "Raw AUC score: 0.704227386374676\n"
     ]
    }
   ],
   "source": [
    "best_parameters, score, _ = max(clf.grid_scores_, key=lambda x: x[1])\n",
    "print('Raw AUC score:', score)"
   ]
  },
  {
   "cell_type": "code",
   "execution_count": 30,
   "metadata": {
    "collapsed": false
   },
   "outputs": [
    {
     "name": "stdout",
     "output_type": "stream",
     "text": [
      "colsample_bytree: 0.7\n",
      "learning_rate: 0.05\n",
      "max_depth: 6\n",
      "min_child_weight: 11\n",
      "missing: -999\n",
      "n_estimators: 5\n",
      "nthread: 4\n",
      "objective: 'binary:logistic'\n",
      "seed: 1337\n",
      "silent: 1\n",
      "subsample: 0.8\n"
     ]
    }
   ],
   "source": [
    "for param_name in sorted(best_parameters.keys()):\n",
    "    print(\"%s: %r\" % (param_name, best_parameters[param_name]))"
   ]
  },
  {
   "cell_type": "code",
   "execution_count": 60,
   "metadata": {
    "collapsed": false
   },
   "outputs": [],
   "source": [
    "#plot_importance(clf)\n",
    "#pyplot.show()"
   ]
  },
  {
   "cell_type": "code",
   "execution_count": 31,
   "metadata": {
    "collapsed": false
   },
   "outputs": [],
   "source": [
    "#xgb_model = xgb.XGBClassifier()"
   ]
  },
  {
   "cell_type": "code",
   "execution_count": 34,
   "metadata": {
    "collapsed": false
   },
   "outputs": [
    {
     "data": {
      "text/plain": [
       "XGBClassifier(base_score=0.5, colsample_bylevel=1, colsample_bytree=1,\n",
       "       gamma=0, learning_rate=0.1, max_delta_step=0, max_depth=3,\n",
       "       min_child_weight=1, missing=None, n_estimators=100, nthread=-1,\n",
       "       objective='binary:logistic', reg_alpha=0, reg_lambda=1,\n",
       "       scale_pos_weight=1, seed=0, silent=True, subsample=1)"
      ]
     },
     "execution_count": 34,
     "metadata": {},
     "output_type": "execute_result"
    }
   ],
   "source": [
    "xgb_model.fit(X_train, y_train)"
   ]
  },
  {
   "cell_type": "code",
   "execution_count": 35,
   "metadata": {
    "collapsed": false
   },
   "outputs": [
    {
     "data": {
      "image/png": "[encoded data removed]",
      "text/plain": [
       "<matplotlib.figure.Figure at 0x7f9a42b3cd30>"
      ]
     },
     "metadata": {},
     "output_type": "display_data"
    }
   ],
   "source": [
    "pyplot.bar(range(len(xgb_model.feature_importances_)), (xgb_model.feature_importances_))\n",
    "pyplot.show()"
   ]
  },
  {
   "cell_type": "code",
   "execution_count": 36,
   "metadata": {
    "collapsed": false
   },
   "outputs": [],
   "source": [
    "args=np.argsort(xgb_model.feature_importances_)"
   ]
  },
  {
   "cell_type": "code",
   "execution_count": 37,
   "metadata": {
    "collapsed": false
   },
   "outputs": [],
   "source": [
    "new_args=list(args)\n",
    "new_args=new_args[::-1]"
   ]
  },
  {
   "cell_type": "code",
   "execution_count": 38,
   "metadata": {
    "collapsed": false
   },
   "outputs": [],
   "source": [
    "cols = X_train.columns.values"
   ]
  },
  {
   "cell_type": "code",
   "execution_count": 39,
   "metadata": {
    "collapsed": false
   },
   "outputs": [
    {
     "data": {
      "text/plain": [
       "array(['51277', '50882', '51275', '50910', '50802', '50821', 'saps',\n",
       "       '51006', '51200', '50824', '50862', 'sapsii', '50902', '50960',\n",
       "       '51279', '50863', '50878', '50808', '51498', '50809', '50868',\n",
       "       '51244', '51491', 'sofa', '51274', '51265', '50820', '50970',\n",
       "       '50954', '50912', '50813', '51256', '50971', '51146', '51250',\n",
       "       '50885', 'last_careunit_CSRU', '50861', '50810', 'age', '51222',\n",
       "       '51254', 'sirs', 'oasis', '50983', '50818', '51249', '50931',\n",
       "       'gender_F', '50811', '50804', '50893', '50822', '51144',\n",
       "       'last_careunit_CCU', 'insurance_Medicare', '51301', '51221',\n",
       "       'first_careunit_CSRU', 'last_careunit_MICU', '51248',\n",
       "       'insurance_Private', '51237', 'marital_status_UNKNOWN (DEFAULT)',\n",
       "       'gender_M', 'marital_status_DIVORCED',\n",
       "       'marital_status_LIFE PARTNER', 'marital_status_MARRIED',\n",
       "       'marital_status_SEPARATED', 'marital_status_SINGLE',\n",
       "       'insurance_Medicaid', 'marital_status_WIDOWED',\n",
       "       'insurance_Government', 'insurance_Self Pay', 'first_careunit_CCU',\n",
       "       'first_careunit_MICU', 'first_careunit_SICU', 'last_careunit_TSICU',\n",
       "       'last_careunit_SICU', 'first_careunit_TSICU'], dtype=object)"
      ]
     },
     "execution_count": 39,
     "metadata": {},
     "output_type": "execute_result"
    }
   ],
   "source": [
    "features=cols[new_args]\n",
    "features"
   ]
  },
  {
   "cell_type": "markdown",
   "metadata": {},
   "source": [
    "## Training with soft labels"
   ]
  },
  {
   "cell_type": "code",
   "execution_count": 40,
   "metadata": {
    "collapsed": false
   },
   "outputs": [],
   "source": [
    "y_train_soft = model.predict(X_tr)"
   ]
  },
  {
   "cell_type": "code",
   "execution_count": null,
   "metadata": {
    "collapsed": true
   },
   "outputs": [],
   "source": [
    "xgb_model = xgb.XGBRegressor()"
   ]
  },
  {
   "cell_type": "code",
   "execution_count": null,
   "metadata": {
    "collapsed": false
   },
   "outputs": [
    {
     "name": "stdout",
     "output_type": "stream",
     "text": [
      "Fitting 5 folds for each of 1 candidates, totalling 5 fits\n",
      "[CV] colsample_bytree=0.7, subsample=0.8, max_depth=6, learning_rate=0.05, min_child_weight=11, missing=-999, seed=1337, n_estimators=5, objective=binary:logistic, silent=1, nthread=4 \n",
      "[CV] colsample_bytree=0.7, subsample=0.8, max_depth=6, learning_rate=0.05, min_child_weight=11, missing=-999, seed=1337, n_estimators=5, objective=binary:logistic, silent=1, nthread=4 \n",
      "[CV] colsample_bytree=0.7, subsample=0.8, max_depth=6, learning_rate=0.05, min_child_weight=11, missing=-999, seed=1337, n_estimators=5, objective=binary:logistic, silent=1, nthread=4 \n",
      "[CV] colsample_bytree=0.7, subsample=0.8, max_depth=6, learning_rate=0.05, min_child_weight=11, missing=-999, seed=1337, n_estimators=5, objective=binary:logistic, silent=1, nthread=4 \n",
      "[CV] colsample_bytree=0.7, subsample=0.8, max_depth=6, learning_rate=0.05, min_child_weight=11, missing=-999, seed=1337, n_estimators=5, objective=binary:logistic, silent=1, nthread=4 \n"
     ]
    }
   ],
   "source": [
    "clf = GridSearchCV(xgb_model, parameters, n_jobs=5, \n",
    "                   cv=StratifiedKFold(y_train, n_folds=5, shuffle=True), \n",
    "                   scoring='roc_auc',\n",
    "                   verbose=2, refit=True)\n",
    "\n",
    "clf.fit(X_train, y_train_soft.ravel())"
   ]
  },
  {
   "cell_type": "code",
   "execution_count": null,
   "metadata": {
    "collapsed": true
   },
   "outputs": [],
   "source": [
    "best_parameters, score, _ = max(clf.grid_scores_, key=lambda x: x[1])\n",
    "print('Raw AUC score:', score)"
   ]
  },
  {
   "cell_type": "code",
   "execution_count": 93,
   "metadata": {
    "collapsed": false
   },
   "outputs": [],
   "source": [
    "y_cv_preds=clf.predict(X_cv)"
   ]
  },
  {
   "cell_type": "code",
   "execution_count": 94,
   "metadata": {
    "collapsed": false
   },
   "outputs": [
    {
     "data": {
      "text/plain": [
       "array([ 0.41664794,  0.401701  ,  0.42323938, ...,  0.39888313,\n",
       "        0.39718488,  0.39768648], dtype=float32)"
      ]
     },
     "execution_count": 94,
     "metadata": {},
     "output_type": "execute_result"
    }
   ],
   "source": [
    "y_cv_preds"
   ]
  },
  {
   "cell_type": "code",
   "execution_count": 95,
   "metadata": {
    "collapsed": false
   },
   "outputs": [
    {
     "data": {
      "text/plain": [
       "<matplotlib.legend.Legend at 0x7f81f4176518>"
      ]
     },
     "execution_count": 95,
     "metadata": {},
     "output_type": "execute_result"
    },
    {
     "data": {
      "image/png": "[encoded data removed]",
      "text/plain": [
       "<matplotlib.figure.Figure at 0x7f81f4176c18>"
      ]
     },
     "metadata": {},
     "output_type": "display_data"
    }
   ],
   "source": [
    "preds = model.predict(X_val)\n",
    "\n",
    "from sklearn.metrics import roc_curve, auc\n",
    "\n",
    "# get 0/1 binary lable for each patient encounter\n",
    "label = y_cv\n",
    "\n",
    "# get the last prediction in [0,1] for the patient\n",
    "prediction = y_cv_preds\n",
    "\n",
    "# compute ROC curve for predictions\n",
    "rnn_roc = roc_curve(label,prediction)\n",
    "\n",
    "# compute the area under the curve of prediction ROC\n",
    "rnn_auc = auc(rnn_roc[0], rnn_roc[1])\n",
    "plt.figure(figsize=(7, 5))\n",
    "line_kwargs = {'linewidth': 4, 'alpha': 0.8}\n",
    "plt.plot(rnn_roc[0], rnn_roc[1], label='AUROC-XGB: %0.3f' % rnn_auc, color='blue', **line_kwargs)\n",
    "plt.legend(loc='lower right', fontsize=20)"
   ]
  },
  {
   "cell_type": "code",
   "execution_count": null,
   "metadata": {
    "collapsed": true
   },
   "outputs": [],
   "source": [
    "from xgboost import plot_importance"
   ]
  },
  {
   "cell_type": "code",
   "execution_count": null,
   "metadata": {
    "collapsed": false
   },
   "outputs": [],
   "source": [
    "plot_importance(clf)"
   ]
  },
  {
   "cell_type": "code",
   "execution_count": null,
   "metadata": {
    "collapsed": true
   },
   "outputs": [],
   "source": [
    "plot_importance(model)\n",
    "pyplot.show()"
   ]
  },
  {
   "cell_type": "markdown",
   "metadata": {},
   "source": [
    "## XGBoost"
   ]
  },
  {
   "cell_type": "code",
   "execution_count": 97,
   "metadata": {
    "collapsed": true
   },
   "outputs": [],
   "source": [
    "from sklearn.ensemble import GradientBoostingClassifier  #GBM algorithm\n",
    "from sklearn import cross_validation, metrics   #Additional scklearn functions\n",
    "from sklearn.grid_search import GridSearchCV\n",
    "\n",
    "import matplotlib.pylab as plt\n",
    "%matplotlib inline\n",
    "from matplotlib.pylab import rcParams\n",
    "rcParams['figure.figsize'] = 12, 4"
   ]
  },
  {
   "cell_type": "code",
   "execution_count": null,
   "metadata": {
    "collapsed": true
   },
   "outputs": [],
   "source": []
  },
  {
   "cell_type": "code",
   "execution_count": null,
   "metadata": {
    "collapsed": true
   },
   "outputs": [],
   "source": [
    "gbm0 = GradientBoostingClassifier(random_state=10)\n",
    "modelfit(gbm0, train, predictors)"
   ]
  }
 ],
 "metadata": {
  "anaconda-cloud": {},
  "kernelspec": {
   "display_name": "Python [default]",
   "language": "python",
   "name": "python3"
  },
  "language_info": {
   "codemirror_mode": {
    "name": "ipython",
    "version": 3
   },
   "file_extension": ".py",
   "mimetype": "text/x-python",
   "name": "python",
   "nbconvert_exporter": "python",
   "pygments_lexer": "ipython3",
   "version": "3.5.4"
  }
 },
 "nbformat": 4,
 "nbformat_minor": 1
}
